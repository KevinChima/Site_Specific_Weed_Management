{
 "cells": [
  {
   "cell_type": "markdown",
   "metadata": {},
   "source": [
    "## Import the required libraries"
   ]
  },
  {
   "cell_type": "code",
   "execution_count": 1,
   "metadata": {
    "id": "H_7Fr5qKbgnz"
   },
   "outputs": [],
   "source": [
    "import tensorflow as tf\n",
    "import os\n",
    "import pandas as pd\n",
    "import numpy as np\n",
    "from tqdm import tqdm\n",
    "from sklearn.preprocessing import LabelEncoder\n",
    "from sklearn.model_selection import train_test_split\n",
    "from keras.utils import np_utils\n",
    "import cv2\n",
    "from glob import glob\n",
    "import matplotlib.pyplot as plt                        \n",
    "%matplotlib inline "
   ]
  },
  {
   "cell_type": "markdown",
   "metadata": {},
   "source": [
    "## Read the images from train folder and generate training dataset"
   ]
  },
  {
   "cell_type": "code",
   "execution_count": 2,
   "metadata": {
    "id": "81Npv_7nbxLL"
   },
   "outputs": [
    {
     "ename": "error",
     "evalue": "OpenCV(4.5.5) D:\\a\\opencv-python\\opencv-python\\opencv\\modules\\imgproc\\src\\resize.cpp:4052: error: (-215:Assertion failed) !ssize.empty() in function 'cv::resize'\n",
     "output_type": "error",
     "traceback": [
      "\u001b[1;31m---------------------------------------------------------------------------\u001b[0m",
      "\u001b[1;31merror\u001b[0m                                     Traceback (most recent call last)",
      "\u001b[1;32m<ipython-input-2-dc79178e4322>\u001b[0m in \u001b[0;36m<module>\u001b[1;34m\u001b[0m\n\u001b[0;32m      7\u001b[0m \u001b[1;33m\u001b[0m\u001b[0m\n\u001b[0;32m      8\u001b[0m \u001b[1;32mfor\u001b[0m \u001b[0mimg\u001b[0m \u001b[1;32min\u001b[0m \u001b[0mimages\u001b[0m\u001b[1;33m:\u001b[0m\u001b[1;33m\u001b[0m\u001b[1;33m\u001b[0m\u001b[0m\n\u001b[1;32m----> 9\u001b[1;33m     \u001b[0mtrain_images\u001b[0m\u001b[1;33m.\u001b[0m\u001b[0mappend\u001b[0m\u001b[1;33m(\u001b[0m\u001b[0mcv2\u001b[0m\u001b[1;33m.\u001b[0m\u001b[0mresize\u001b[0m\u001b[1;33m(\u001b[0m\u001b[0mcv2\u001b[0m\u001b[1;33m.\u001b[0m\u001b[0mimread\u001b[0m\u001b[1;33m(\u001b[0m\u001b[0mimg\u001b[0m\u001b[1;33m)\u001b[0m\u001b[1;33m,\u001b[0m \u001b[1;33m(\u001b[0m\u001b[1;36m256\u001b[0m\u001b[1;33m,\u001b[0m \u001b[1;36m256\u001b[0m\u001b[1;33m)\u001b[0m\u001b[1;33m)\u001b[0m\u001b[1;33m)\u001b[0m\u001b[1;33m\u001b[0m\u001b[1;33m\u001b[0m\u001b[0m\n\u001b[0m\u001b[0;32m     10\u001b[0m     \u001b[0mtrain_labels\u001b[0m\u001b[1;33m.\u001b[0m\u001b[0mappend\u001b[0m\u001b[1;33m(\u001b[0m\u001b[0mimg\u001b[0m\u001b[1;33m.\u001b[0m\u001b[0msplit\u001b[0m\u001b[1;33m(\u001b[0m\u001b[1;34m'/'\u001b[0m\u001b[1;33m)\u001b[0m\u001b[1;33m[\u001b[0m\u001b[1;33m-\u001b[0m\u001b[1;36m2\u001b[0m\u001b[1;33m]\u001b[0m\u001b[1;33m)\u001b[0m\u001b[1;33m\u001b[0m\u001b[1;33m\u001b[0m\u001b[0m\n\u001b[0;32m     11\u001b[0m \u001b[0mtrain_X\u001b[0m \u001b[1;33m=\u001b[0m \u001b[0mnp\u001b[0m\u001b[1;33m.\u001b[0m\u001b[0masarray\u001b[0m\u001b[1;33m(\u001b[0m\u001b[0mtrain_images\u001b[0m\u001b[1;33m)\u001b[0m\u001b[1;33m\u001b[0m\u001b[1;33m\u001b[0m\u001b[0m\n",
      "\u001b[1;31merror\u001b[0m: OpenCV(4.5.5) D:\\a\\opencv-python\\opencv-python\\opencv\\modules\\imgproc\\src\\resize.cpp:4052: error: (-215:Assertion failed) !ssize.empty() in function 'cv::resize'\n"
     ]
    }
   ],
   "source": [
    "# Reading the images and labels\n",
    "images_path = '/Users/PaulPlay/PaulPlay with python/Deep Learning/Weed Classifier/Data'\n",
    "\n",
    "images = glob(images_path)\n",
    "train_images = []\n",
    "train_labels = []\n",
    "\n",
    "for img in images:\n",
    "    train_images.append(cv2.resize(cv2.imread(img), (256, 256)))\n",
    "    train_labels.append(img.split('/')[-2])\n",
    "train_X = np.asarray(train_images)\n",
    "train_Y = pd.DataFrame(train_labels)"
   ]
  },
  {
   "cell_type": "code",
   "execution_count": 6,
   "metadata": {},
   "outputs": [
    {
     "data": {
      "text/plain": [
       "(0,)"
      ]
     },
     "execution_count": 6,
     "metadata": {},
     "output_type": "execute_result"
    }
   ],
   "source": [
    "train_X.shape"
   ]
  },
  {
   "cell_type": "markdown",
   "metadata": {},
   "source": [
    "## Plot an image from training data set"
   ]
  },
  {
   "cell_type": "code",
   "execution_count": 4,
   "metadata": {
    "id": "VnzZzqJ0b__7",
    "outputId": "a9d53219-b5f7-40da-a274-d72298af3c7b"
   },
   "outputs": [
    {
     "ename": "IndexError",
     "evalue": "index 1 is out of bounds for axis 0 with size 0",
     "output_type": "error",
     "traceback": [
      "\u001b[1;31m---------------------------------------------------------------------------\u001b[0m",
      "\u001b[1;31mIndexError\u001b[0m                                Traceback (most recent call last)",
      "\u001b[1;32m<ipython-input-4-11d5c77b3902>\u001b[0m in \u001b[0;36m<module>\u001b[1;34m\u001b[0m\n\u001b[0;32m      1\u001b[0m \u001b[1;31m# Displaying an image\u001b[0m\u001b[1;33m\u001b[0m\u001b[1;33m\u001b[0m\u001b[1;33m\u001b[0m\u001b[0m\n\u001b[1;32m----> 2\u001b[1;33m \u001b[0mplt\u001b[0m\u001b[1;33m.\u001b[0m\u001b[0mimshow\u001b[0m\u001b[1;33m(\u001b[0m\u001b[0mtrain_X\u001b[0m\u001b[1;33m[\u001b[0m\u001b[1;36m1\u001b[0m\u001b[1;33m]\u001b[0m\u001b[1;33m)\u001b[0m\u001b[1;33m\u001b[0m\u001b[1;33m\u001b[0m\u001b[0m\n\u001b[0m",
      "\u001b[1;31mIndexError\u001b[0m: index 1 is out of bounds for axis 0 with size 0"
     ]
    }
   ],
   "source": [
    "# Displaying an image\n",
    "plt.imshow(train_X[1])"
   ]
  },
  {
   "cell_type": "code",
   "execution_count": null,
   "metadata": {
    "id": "3wfFX54bcTRl",
    "outputId": "51540a21-6209-4d50-f62a-a26a8297129d"
   },
   "outputs": [],
   "source": [
    "train_X.shape"
   ]
  },
  {
   "cell_type": "markdown",
   "metadata": {},
   "source": [
    "## Print all unique output classes"
   ]
  },
  {
   "cell_type": "code",
   "execution_count": 6,
   "metadata": {
    "id": "jinK0wW4cYOK",
    "outputId": "c963c05a-c36d-4ea0-f897-6be478ab3fdb"
   },
   "outputs": [
    {
     "data": {
      "text/plain": [
       "array(['Scentless Mayweed', 'Common wheat', 'Charlock', 'Black-grass',\n",
       "       'Sugar beet', 'Loose Silky-bent', 'Maize', 'Cleavers',\n",
       "       'Common Chickweed', 'Fat Hen', 'Small-flowered Cranesbill',\n",
       "       'Shepherds Purse'], dtype=object)"
      ]
     },
     "execution_count": 6,
     "metadata": {},
     "output_type": "execute_result"
    }
   ],
   "source": [
    "train_Y[0].unique()"
   ]
  },
  {
   "cell_type": "markdown",
   "metadata": {},
   "source": [
    "## Label encode all the output classes"
   ]
  },
  {
   "cell_type": "code",
   "execution_count": 7,
   "metadata": {
    "id": "aC-M5kxhcfYf"
   },
   "outputs": [],
   "source": [
    "# Converting labels to numbers\n",
    "encoder = LabelEncoder()\n",
    "encoder.fit(train_Y[0])\n",
    "encoded_labels = encoder.transform(train_Y[0])\n",
    "categorical_labels = np_utils.to_categorical(encoded_labels)"
   ]
  },
  {
   "cell_type": "code",
   "execution_count": 8,
   "metadata": {
    "id": "Ag5NY8JCgqHI",
    "outputId": "ca0f5bd7-23ec-414b-cf5e-26fcdb280241"
   },
   "outputs": [
    {
     "data": {
      "text/plain": [
       "array(['Black-grass', 'Charlock', 'Cleavers', 'Common Chickweed',\n",
       "       'Common wheat', 'Fat Hen', 'Loose Silky-bent', 'Maize',\n",
       "       'Scentless Mayweed', 'Shepherds Purse',\n",
       "       'Small-flowered Cranesbill', 'Sugar beet'], dtype=object)"
      ]
     },
     "execution_count": 8,
     "metadata": {},
     "output_type": "execute_result"
    }
   ],
   "source": [
    "encoder.classes_"
   ]
  },
  {
   "cell_type": "markdown",
   "metadata": {},
   "source": [
    "## Split the training data into train and validation data set"
   ]
  },
  {
   "cell_type": "code",
   "execution_count": 9,
   "metadata": {
    "id": "5e1n6rO5cvF_"
   },
   "outputs": [],
   "source": [
    "x_train,x_test,y_train,y_test=train_test_split(train_X,categorical_labels,test_size=0.2,random_state=7)"
   ]
  },
  {
   "cell_type": "markdown",
   "metadata": {},
   "source": [
    "## Normalize the train and validation images"
   ]
  },
  {
   "cell_type": "code",
   "execution_count": 10,
   "metadata": {
    "id": "HqSAESj3c9Vs"
   },
   "outputs": [],
   "source": [
    "# Normalization of the Image Data\n",
    "x_train = x_train.astype('float32') / 255\n",
    "x_test = x_test.astype('float32') / 255 "
   ]
  },
  {
   "cell_type": "code",
   "execution_count": 11,
   "metadata": {
    "id": "S-_C1jHGc9b_",
    "outputId": "448299c3-1af7-4c01-fa8c-fa7e2eaf89fd"
   },
   "outputs": [
    {
     "data": {
      "text/plain": [
       "<matplotlib.image.AxesImage at 0x7fc676ef6550>"
      ]
     },
     "execution_count": 11,
     "metadata": {},
     "output_type": "execute_result"
    },
    {
     "data": {
      "image/png": "[encoded data removed]",
      "text/plain": [
       "<Figure size 432x288 with 1 Axes>"
      ]
     },
     "metadata": {
      "needs_background": "light"
     },
     "output_type": "display_data"
    }
   ],
   "source": [
    "plt.imshow(x_train[0])"
   ]
  },
  {
   "cell_type": "markdown",
   "metadata": {},
   "source": [
    "## Initialize the object of ImageDataGenerator"
   ]
  },
  {
   "cell_type": "code",
   "execution_count": 12,
   "metadata": {
    "id": "k22mjvz8c9hE"
   },
   "outputs": [],
   "source": [
    "datagen= tf.keras.preprocessing.image.ImageDataGenerator(rotation_range=20,\n",
    "                                                         width_shift_range=0.2,\n",
    "                                                         height_shift_range=0.2,\n",
    "                                                         zoom_range=[0.4,1.5],\n",
    "                                                         horizontal_flip=True,\n",
    "                                                         vertical_flip=True)\n",
    "\n",
    "datagen.fit(x_train)"
   ]
  },
  {
   "cell_type": "markdown",
   "metadata": {},
   "source": [
    "## Initialize and build the model"
   ]
  },
  {
   "cell_type": "code",
   "execution_count": 13,
   "metadata": {
    "id": "IE2gEXbdc9mV"
   },
   "outputs": [],
   "source": [
    "#Clear any previous model from memory\n",
    "tf.keras.backend.clear_session()\n",
    "\n",
    "#Initialize model\n",
    "model = tf.keras.models.Sequential()\n",
    "\n",
    "#Add 1st Conv Layer\n",
    "model.add(tf.keras.layers.Conv2D(64, kernel_size=(3, 3), input_shape=(256, 256, 3), activation='relu'))\n",
    "\n",
    "#Add 2nd Conv Layer\n",
    "model.add(tf.keras.layers.Conv2D(64, kernel_size=(3,3), activation='relu'))\n",
    "\n",
    "#normalize data\n",
    "model.add(tf.keras.layers.BatchNormalization())\n",
    "\n",
    "#Add Max Pool layer\n",
    "model.add(tf.keras.layers.MaxPool2D(pool_size=(2,2)))\n",
    "\n",
    "#Add 3rd Conv Layer\n",
    "model.add(tf.keras.layers.Conv2D(128, kernel_size=(3,3), activation='relu'))\n",
    "\n",
    "#normalize data\n",
    "model.add(tf.keras.layers.BatchNormalization())\n",
    "\n",
    "#Add Max Pool layer\n",
    "model.add(tf.keras.layers.MaxPool2D(pool_size=(2,2)))\n",
    "\n",
    "#Add 4th Conv Layer\n",
    "model.add(tf.keras.layers.Conv2D(256, kernel_size=(3,3), activation='relu'))\n",
    "\n",
    "#normalize data\n",
    "model.add(tf.keras.layers.BatchNormalization())\n",
    "\n",
    "#Add Max Pool layer\n",
    "model.add(tf.keras.layers.MaxPool2D(pool_size=(2,2)))\n",
    "\n",
    "#Add Global Max Pool layer\n",
    "model.add(tf.keras.layers.GlobalMaxPool2D())\n",
    "\n",
    "#Flatten the data\n",
    "model.add(tf.keras.layers.Flatten())\n",
    "\n",
    "#Add 1st dense layer\n",
    "model.add(tf.keras.layers.Dense(128, activation='relu'))\n",
    "\n",
    "#normalize data\n",
    "model.add(tf.keras.layers.BatchNormalization())\n",
    "\n",
    "#Add Dropout\n",
    "model.add(tf.keras.layers.Dropout(0.3))\n",
    "\n",
    "#Add 2nd dense layer\n",
    "model.add(tf.keras.layers.Dense(128, activation='relu'))\n",
    "\n",
    "#normalize data\n",
    "model.add(tf.keras.layers.BatchNormalization())\n",
    "\n",
    "#Add Dropout\n",
    "model.add(tf.keras.layers.Dropout(0.3))\n",
    "\n",
    "#Add Output Layer\n",
    "model.add(tf.keras.layers.Dense(12, activation='softmax'))"
   ]
  },
  {
   "cell_type": "markdown",
   "metadata": {},
   "source": [
    "## Compile the model"
   ]
  },
  {
   "cell_type": "code",
   "execution_count": 14,
   "metadata": {
    "id": "IpOkCIEQc9qO"
   },
   "outputs": [],
   "source": [
    "#Specify Lass and Optimizer\n",
    "model.compile(optimizer='adam', loss='categorical_crossentropy', metrics=['accuracy'])"
   ]
  },
  {
   "cell_type": "markdown",
   "metadata": {},
   "source": [
    "## Model Summary"
   ]
  },
  {
   "cell_type": "code",
   "execution_count": 15,
   "metadata": {
    "id": "jk3thJG1d-A2",
    "outputId": "40d70a56-3f9e-4ae6-9c1e-d30dadc7e88c"
   },
   "outputs": [
    {
     "name": "stdout",
     "output_type": "stream",
     "text": [
      "Model: \"sequential\"\n",
      "_________________________________________________________________\n",
      "Layer (type)                 Output Shape              Param #   \n",
      "=================================================================\n",
      "conv2d (Conv2D)              (None, 254, 254, 64)      1792      \n",
      "_________________________________________________________________\n",
      "conv2d_1 (Conv2D)            (None, 252, 252, 64)      36928     \n",
      "_________________________________________________________________\n",
      "batch_normalization (BatchNo (None, 252, 252, 64)      256       \n",
      "_________________________________________________________________\n",
      "max_pooling2d (MaxPooling2D) (None, 126, 126, 64)      0         \n",
      "_________________________________________________________________\n",
      "conv2d_2 (Conv2D)            (None, 124, 124, 128)     73856     \n",
      "_________________________________________________________________\n",
      "batch_normalization_1 (Batch (None, 124, 124, 128)     512       \n",
      "_________________________________________________________________\n",
      "max_pooling2d_1 (MaxPooling2 (None, 62, 62, 128)       0         \n",
      "_________________________________________________________________\n",
      "conv2d_3 (Conv2D)            (None, 60, 60, 256)       295168    \n",
      "_________________________________________________________________\n",
      "batch_normalization_2 (Batch (None, 60, 60, 256)       1024      \n",
      "_________________________________________________________________\n",
      "max_pooling2d_2 (MaxPooling2 (None, 30, 30, 256)       0         \n",
      "_________________________________________________________________\n",
      "global_max_pooling2d (Global (None, 256)               0         \n",
      "_________________________________________________________________\n",
      "flatten (Flatten)            (None, 256)               0         \n",
      "_________________________________________________________________\n",
      "dense (Dense)                (None, 128)               32896     \n",
      "_________________________________________________________________\n",
      "batch_normalization_3 (Batch (None, 128)               512       \n",
      "_________________________________________________________________\n",
      "dropout (Dropout)            (None, 128)               0         \n",
      "_________________________________________________________________\n",
      "dense_1 (Dense)              (None, 128)               16512     \n",
      "_________________________________________________________________\n",
      "batch_normalization_4 (Batch (None, 128)               512       \n",
      "_________________________________________________________________\n",
      "dropout_1 (Dropout)          (None, 128)               0         \n",
      "_________________________________________________________________\n",
      "dense_2 (Dense)              (None, 12)                1548      \n",
      "=================================================================\n",
      "Total params: 461,516\n",
      "Trainable params: 460,108\n",
      "Non-trainable params: 1,408\n",
      "_________________________________________________________________\n"
     ]
    }
   ],
   "source": [
    "#Model Summary\n",
    "model.summary()"
   ]
  },
  {
   "cell_type": "code",
   "execution_count": 16,
   "metadata": {
    "id": "ygrze86Xd-EF"
   },
   "outputs": [],
   "source": [
    "#Saving the best model using model checkpoint callback\n",
    "model_checkpoint=tf.keras.callbacks.ModelCheckpoint('/kaggle/working/plantspecies_CNN_model.h5', #where to save the model\n",
    "                                                    save_best_only=True, \n",
    "                                                    monitor='val_accuracy', \n",
    "                                                    mode='max', \n",
    "                                                    verbose=1)"
   ]
  },
  {
   "cell_type": "markdown",
   "metadata": {},
   "source": [
    "## Fit the model"
   ]
  },
  {
   "cell_type": "code",
   "execution_count": 17,
   "metadata": {
    "id": "5H96F1f-d-KU",
    "outputId": "474e5fb7-6d7c-4519-cde6-0162b24cf49d"
   },
   "outputs": [
    {
     "name": "stdout",
     "output_type": "stream",
     "text": [
      "Epoch 1/200\n",
      "238/238 [==============================] - ETA: 0s - loss: 2.4073 - accuracy: 0.2434\n",
      "Epoch 00001: val_accuracy improved from -inf to 0.12842, saving model to /kaggle/working/plantspecies_CNN_model.h5\n",
      "238/238 [==============================] - 65s 271ms/step - loss: 2.4073 - accuracy: 0.2434 - val_loss: 6.1529 - val_accuracy: 0.1284\n",
      "Epoch 2/200\n",
      "238/238 [==============================] - ETA: 0s - loss: 1.7269 - accuracy: 0.4171\n",
      "Epoch 00002: val_accuracy improved from 0.12842 to 0.14421, saving model to /kaggle/working/plantspecies_CNN_model.h5\n",
      "238/238 [==============================] - 64s 268ms/step - loss: 1.7269 - accuracy: 0.4171 - val_loss: 4.5917 - val_accuracy: 0.1442\n",
      "Epoch 3/200\n",
      "238/238 [==============================] - ETA: 0s - loss: 1.3651 - accuracy: 0.5308\n",
      "Epoch 00003: val_accuracy improved from 0.14421 to 0.26211, saving model to /kaggle/working/plantspecies_CNN_model.h5\n",
      "238/238 [==============================] - 64s 271ms/step - loss: 1.3651 - accuracy: 0.5308 - val_loss: 2.8959 - val_accuracy: 0.2621\n",
      "Epoch 4/200\n",
      "238/238 [==============================] - ETA: 0s - loss: 1.1314 - accuracy: 0.6026\n",
      "Epoch 00004: val_accuracy improved from 0.26211 to 0.41158, saving model to /kaggle/working/plantspecies_CNN_model.h5\n",
      "238/238 [==============================] - 64s 270ms/step - loss: 1.1314 - accuracy: 0.6026 - val_loss: 1.7711 - val_accuracy: 0.4116\n",
      "Epoch 5/200\n",
      "238/238 [==============================] - ETA: 0s - loss: 1.0117 - accuracy: 0.6524\n",
      "Epoch 00005: val_accuracy did not improve from 0.41158\n",
      "238/238 [==============================] - 64s 268ms/step - loss: 1.0117 - accuracy: 0.6524 - val_loss: 7.5854 - val_accuracy: 0.1126\n",
      "Epoch 6/200\n",
      "238/238 [==============================] - ETA: 0s - loss: 1.0095 - accuracy: 0.6495\n",
      "Epoch 00006: val_accuracy improved from 0.41158 to 0.41789, saving model to /kaggle/working/plantspecies_CNN_model.h5\n",
      "238/238 [==============================] - 63s 265ms/step - loss: 1.0095 - accuracy: 0.6495 - val_loss: 2.3065 - val_accuracy: 0.4179\n",
      "Epoch 7/200\n",
      "238/238 [==============================] - ETA: 0s - loss: 0.8644 - accuracy: 0.6976\n",
      "Epoch 00007: val_accuracy improved from 0.41789 to 0.74421, saving model to /kaggle/working/plantspecies_CNN_model.h5\n",
      "238/238 [==============================] - 62s 260ms/step - loss: 0.8644 - accuracy: 0.6976 - val_loss: 0.7731 - val_accuracy: 0.7442\n",
      "Epoch 8/200\n",
      "238/238 [==============================] - ETA: 0s - loss: 0.8374 - accuracy: 0.7108\n",
      "Epoch 00008: val_accuracy did not improve from 0.74421\n",
      "238/238 [==============================] - 63s 265ms/step - loss: 0.8374 - accuracy: 0.7108 - val_loss: 2.8007 - val_accuracy: 0.2779\n",
      "Epoch 9/200\n",
      "238/238 [==============================] - ETA: 0s - loss: 0.7411 - accuracy: 0.7489\n",
      "Epoch 00009: val_accuracy did not improve from 0.74421\n",
      "238/238 [==============================] - 63s 264ms/step - loss: 0.7411 - accuracy: 0.7489 - val_loss: 1.0054 - val_accuracy: 0.6895\n",
      "Epoch 10/200\n",
      "238/238 [==============================] - ETA: 0s - loss: 0.7035 - accuracy: 0.7668\n",
      "Epoch 00010: val_accuracy did not improve from 0.74421\n",
      "238/238 [==============================] - 63s 263ms/step - loss: 0.7035 - accuracy: 0.7668 - val_loss: 2.0246 - val_accuracy: 0.4800\n",
      "Epoch 11/200\n",
      "238/238 [==============================] - ETA: 0s - loss: 0.6926 - accuracy: 0.7597\n",
      "Epoch 00011: val_accuracy did not improve from 0.74421\n",
      "238/238 [==============================] - 63s 263ms/step - loss: 0.6926 - accuracy: 0.7597 - val_loss: 2.1616 - val_accuracy: 0.4705\n",
      "Epoch 12/200\n",
      "238/238 [==============================] - ETA: 0s - loss: 0.6262 - accuracy: 0.7889\n",
      "Epoch 00012: val_accuracy did not improve from 0.74421\n",
      "238/238 [==============================] - 63s 265ms/step - loss: 0.6262 - accuracy: 0.7889 - val_loss: 1.0405 - val_accuracy: 0.6505\n",
      "Epoch 13/200\n",
      "238/238 [==============================] - ETA: 0s - loss: 0.5918 - accuracy: 0.7947\n",
      "Epoch 00013: val_accuracy improved from 0.74421 to 0.80211, saving model to /kaggle/working/plantspecies_CNN_model.h5\n",
      "238/238 [==============================] - 63s 263ms/step - loss: 0.5918 - accuracy: 0.7947 - val_loss: 0.5867 - val_accuracy: 0.8021\n",
      "Epoch 14/200\n",
      "238/238 [==============================] - ETA: 0s - loss: 0.6027 - accuracy: 0.7889\n",
      "Epoch 00014: val_accuracy did not improve from 0.80211\n",
      "238/238 [==============================] - 62s 261ms/step - loss: 0.6027 - accuracy: 0.7889 - val_loss: 0.9868 - val_accuracy: 0.6821\n",
      "Epoch 15/200\n",
      "238/238 [==============================] - ETA: 0s - loss: 0.5825 - accuracy: 0.8018\n",
      "Epoch 00015: val_accuracy did not improve from 0.80211\n",
      "238/238 [==============================] - 62s 261ms/step - loss: 0.5825 - accuracy: 0.8018 - val_loss: 1.4669 - val_accuracy: 0.5421\n",
      "Epoch 16/200\n",
      "238/238 [==============================] - ETA: 0s - loss: 0.5666 - accuracy: 0.8026\n",
      "Epoch 00016: val_accuracy improved from 0.80211 to 0.80316, saving model to /kaggle/working/plantspecies_CNN_model.h5\n",
      "238/238 [==============================] - 63s 263ms/step - loss: 0.5666 - accuracy: 0.8026 - val_loss: 0.5131 - val_accuracy: 0.8032\n",
      "Epoch 17/200\n",
      "238/238 [==============================] - ETA: 0s - loss: 0.5704 - accuracy: 0.8061\n",
      "Epoch 00017: val_accuracy improved from 0.80316 to 0.81368, saving model to /kaggle/working/plantspecies_CNN_model.h5\n",
      "238/238 [==============================] - 62s 259ms/step - loss: 0.5704 - accuracy: 0.8061 - val_loss: 0.5235 - val_accuracy: 0.8137\n",
      "Epoch 18/200\n",
      "238/238 [==============================] - ETA: 0s - loss: 0.5408 - accuracy: 0.8184\n",
      "Epoch 00018: val_accuracy did not improve from 0.81368\n",
      "238/238 [==============================] - 63s 264ms/step - loss: 0.5408 - accuracy: 0.8184 - val_loss: 0.7080 - val_accuracy: 0.7263\n",
      "Epoch 19/200\n",
      "238/238 [==============================] - ETA: 0s - loss: 0.5843 - accuracy: 0.7989\n",
      "Epoch 00019: val_accuracy did not improve from 0.81368\n",
      "238/238 [==============================] - 62s 262ms/step - loss: 0.5843 - accuracy: 0.7989 - val_loss: 0.6473 - val_accuracy: 0.7726\n",
      "Epoch 20/200\n",
      "238/238 [==============================] - ETA: 0s - loss: 0.5282 - accuracy: 0.8200\n",
      "Epoch 00020: val_accuracy improved from 0.81368 to 0.83053, saving model to /kaggle/working/plantspecies_CNN_model.h5\n",
      "238/238 [==============================] - 62s 261ms/step - loss: 0.5282 - accuracy: 0.8200 - val_loss: 0.4857 - val_accuracy: 0.8305\n",
      "Epoch 21/200\n",
      "238/238 [==============================] - ETA: 0s - loss: 0.5172 - accuracy: 0.8147\n",
      "Epoch 00021: val_accuracy improved from 0.83053 to 0.84737, saving model to /kaggle/working/plantspecies_CNN_model.h5\n",
      "238/238 [==============================] - 63s 263ms/step - loss: 0.5172 - accuracy: 0.8147 - val_loss: 0.4613 - val_accuracy: 0.8474\n",
      "Epoch 22/200\n",
      "238/238 [==============================] - ETA: 0s - loss: 0.5107 - accuracy: 0.8250\n",
      "Epoch 00022: val_accuracy did not improve from 0.84737\n",
      "238/238 [==============================] - 62s 262ms/step - loss: 0.5107 - accuracy: 0.8250 - val_loss: 1.0858 - val_accuracy: 0.7053\n",
      "Epoch 23/200\n",
      "238/238 [==============================] - ETA: 0s - loss: 0.4704 - accuracy: 0.8334\n",
      "Epoch 00023: val_accuracy did not improve from 0.84737\n",
      "238/238 [==============================] - 63s 265ms/step - loss: 0.4704 - accuracy: 0.8334 - val_loss: 0.5293 - val_accuracy: 0.8053\n",
      "Epoch 24/200\n",
      "238/238 [==============================] - ETA: 0s - loss: 0.5148 - accuracy: 0.8234\n",
      "Epoch 00024: val_accuracy did not improve from 0.84737\n",
      "238/238 [==============================] - 62s 260ms/step - loss: 0.5148 - accuracy: 0.8234 - val_loss: 3.2945 - val_accuracy: 0.2905\n",
      "Epoch 25/200\n",
      "238/238 [==============================] - ETA: 0s - loss: 0.4929 - accuracy: 0.8389\n",
      "Epoch 00025: val_accuracy improved from 0.84737 to 0.86632, saving model to /kaggle/working/plantspecies_CNN_model.h5\n",
      "238/238 [==============================] - 62s 262ms/step - loss: 0.4929 - accuracy: 0.8389 - val_loss: 0.3425 - val_accuracy: 0.8663\n",
      "Epoch 26/200\n",
      "238/238 [==============================] - ETA: 0s - loss: 0.4650 - accuracy: 0.8358\n",
      "Epoch 00026: val_accuracy did not improve from 0.86632\n",
      "238/238 [==============================] - 62s 262ms/step - loss: 0.4650 - accuracy: 0.8358 - val_loss: 0.4044 - val_accuracy: 0.8516\n"
     ]
    },
    {
     "name": "stdout",
     "output_type": "stream",
     "text": [
      "Epoch 27/200\n",
      "238/238 [==============================] - ETA: 0s - loss: 0.4603 - accuracy: 0.8437\n",
      "Epoch 00027: val_accuracy did not improve from 0.86632\n",
      "238/238 [==============================] - 63s 264ms/step - loss: 0.4603 - accuracy: 0.8437 - val_loss: 1.2073 - val_accuracy: 0.6642\n",
      "Epoch 28/200\n",
      "238/238 [==============================] - ETA: 0s - loss: 0.4763 - accuracy: 0.8329\n",
      "Epoch 00028: val_accuracy did not improve from 0.86632\n",
      "238/238 [==============================] - 63s 263ms/step - loss: 0.4763 - accuracy: 0.8329 - val_loss: 0.5199 - val_accuracy: 0.8168\n",
      "Epoch 29/200\n",
      "238/238 [==============================] - ETA: 0s - loss: 0.4436 - accuracy: 0.8484\n",
      "Epoch 00029: val_accuracy improved from 0.86632 to 0.87579, saving model to /kaggle/working/plantspecies_CNN_model.h5\n",
      "238/238 [==============================] - 62s 260ms/step - loss: 0.4436 - accuracy: 0.8484 - val_loss: 0.3683 - val_accuracy: 0.8758\n",
      "Epoch 30/200\n",
      "238/238 [==============================] - ETA: 0s - loss: 0.4383 - accuracy: 0.8453\n",
      "Epoch 00030: val_accuracy did not improve from 0.87579\n",
      "238/238 [==============================] - 62s 263ms/step - loss: 0.4383 - accuracy: 0.8453 - val_loss: 0.4378 - val_accuracy: 0.8432\n",
      "Epoch 31/200\n",
      "238/238 [==============================] - ETA: 0s - loss: 0.4400 - accuracy: 0.8450\n",
      "Epoch 00031: val_accuracy did not improve from 0.87579\n",
      "238/238 [==============================] - 63s 264ms/step - loss: 0.4400 - accuracy: 0.8450 - val_loss: 0.6637 - val_accuracy: 0.7621\n",
      "Epoch 32/200\n",
      "238/238 [==============================] - ETA: 0s - loss: 0.4629 - accuracy: 0.8382\n",
      "Epoch 00032: val_accuracy did not improve from 0.87579\n",
      "238/238 [==============================] - 63s 266ms/step - loss: 0.4629 - accuracy: 0.8382 - val_loss: 1.0169 - val_accuracy: 0.6821\n",
      "Epoch 33/200\n",
      "238/238 [==============================] - ETA: 0s - loss: 0.4143 - accuracy: 0.8513\n",
      "Epoch 00033: val_accuracy did not improve from 0.87579\n",
      "238/238 [==============================] - 63s 264ms/step - loss: 0.4143 - accuracy: 0.8513 - val_loss: 0.3910 - val_accuracy: 0.8642\n",
      "Epoch 34/200\n",
      "238/238 [==============================] - ETA: 0s - loss: 0.4400 - accuracy: 0.8453\n",
      "Epoch 00034: val_accuracy did not improve from 0.87579\n",
      "238/238 [==============================] - 63s 263ms/step - loss: 0.4400 - accuracy: 0.8453 - val_loss: 2.3773 - val_accuracy: 0.4537\n",
      "Epoch 35/200\n",
      "238/238 [==============================] - ETA: 0s - loss: 0.4114 - accuracy: 0.8547\n",
      "Epoch 00035: val_accuracy did not improve from 0.87579\n",
      "238/238 [==============================] - 63s 263ms/step - loss: 0.4114 - accuracy: 0.8547 - val_loss: 0.5056 - val_accuracy: 0.8105\n",
      "Epoch 36/200\n",
      "238/238 [==============================] - ETA: 0s - loss: 0.4088 - accuracy: 0.8563\n",
      "Epoch 00036: val_accuracy improved from 0.87579 to 0.89789, saving model to /kaggle/working/plantspecies_CNN_model.h5\n",
      "238/238 [==============================] - 63s 265ms/step - loss: 0.4088 - accuracy: 0.8563 - val_loss: 0.2635 - val_accuracy: 0.8979\n",
      "Epoch 37/200\n",
      "238/238 [==============================] - ETA: 0s - loss: 0.4140 - accuracy: 0.8521\n",
      "Epoch 00037: val_accuracy did not improve from 0.89789\n",
      "238/238 [==============================] - 63s 265ms/step - loss: 0.4140 - accuracy: 0.8521 - val_loss: 0.7957 - val_accuracy: 0.7495\n",
      "Epoch 38/200\n",
      "238/238 [==============================] - ETA: 0s - loss: 0.3959 - accuracy: 0.8584\n",
      "Epoch 00038: val_accuracy improved from 0.89789 to 0.90421, saving model to /kaggle/working/plantspecies_CNN_model.h5\n",
      "238/238 [==============================] - 63s 266ms/step - loss: 0.3959 - accuracy: 0.8584 - val_loss: 0.2577 - val_accuracy: 0.9042\n",
      "Epoch 39/200\n",
      "238/238 [==============================] - ETA: 0s - loss: 0.3869 - accuracy: 0.8689\n",
      "Epoch 00039: val_accuracy did not improve from 0.90421\n",
      "238/238 [==============================] - 64s 268ms/step - loss: 0.3869 - accuracy: 0.8689 - val_loss: 0.4156 - val_accuracy: 0.8568\n",
      "Epoch 40/200\n",
      "238/238 [==============================] - ETA: 0s - loss: 0.3914 - accuracy: 0.8582\n",
      "Epoch 00040: val_accuracy did not improve from 0.90421\n",
      "238/238 [==============================] - 63s 266ms/step - loss: 0.3914 - accuracy: 0.8582 - val_loss: 0.2531 - val_accuracy: 0.9042\n",
      "Epoch 41/200\n",
      "238/238 [==============================] - ETA: 0s - loss: 0.3852 - accuracy: 0.8653\n",
      "Epoch 00041: val_accuracy did not improve from 0.90421\n",
      "238/238 [==============================] - 63s 266ms/step - loss: 0.3852 - accuracy: 0.8653 - val_loss: 0.5769 - val_accuracy: 0.7989\n",
      "Epoch 42/200\n",
      "238/238 [==============================] - ETA: 0s - loss: 0.3746 - accuracy: 0.8671\n",
      "Epoch 00042: val_accuracy did not improve from 0.90421\n",
      "238/238 [==============================] - 63s 264ms/step - loss: 0.3746 - accuracy: 0.8671 - val_loss: 0.5113 - val_accuracy: 0.8232\n",
      "Epoch 43/200\n",
      "238/238 [==============================] - ETA: 0s - loss: 0.4158 - accuracy: 0.8537\n",
      "Epoch 00043: val_accuracy did not improve from 0.90421\n",
      "238/238 [==============================] - 63s 264ms/step - loss: 0.4158 - accuracy: 0.8537 - val_loss: 0.2893 - val_accuracy: 0.9021\n",
      "Epoch 44/200\n",
      "238/238 [==============================] - ETA: 0s - loss: 0.4026 - accuracy: 0.8603\n",
      "Epoch 00044: val_accuracy improved from 0.90421 to 0.92632, saving model to /kaggle/working/plantspecies_CNN_model.h5\n",
      "238/238 [==============================] - 63s 264ms/step - loss: 0.4026 - accuracy: 0.8603 - val_loss: 0.2176 - val_accuracy: 0.9263\n",
      "Epoch 45/200\n",
      "238/238 [==============================] - ETA: 0s - loss: 0.3957 - accuracy: 0.8647\n",
      "Epoch 00045: val_accuracy did not improve from 0.92632\n",
      "238/238 [==============================] - 63s 263ms/step - loss: 0.3957 - accuracy: 0.8647 - val_loss: 0.5286 - val_accuracy: 0.7916\n",
      "Epoch 46/200\n",
      "238/238 [==============================] - ETA: 0s - loss: 0.3730 - accuracy: 0.8674\n",
      "Epoch 00046: val_accuracy did not improve from 0.92632\n",
      "238/238 [==============================] - 63s 264ms/step - loss: 0.3730 - accuracy: 0.8674 - val_loss: 1.1076 - val_accuracy: 0.6758\n",
      "Epoch 47/200\n",
      "238/238 [==============================] - ETA: 0s - loss: 0.3785 - accuracy: 0.8624\n",
      "Epoch 00047: val_accuracy did not improve from 0.92632\n",
      "238/238 [==============================] - 63s 265ms/step - loss: 0.3785 - accuracy: 0.8624 - val_loss: 0.2846 - val_accuracy: 0.9053\n",
      "Epoch 48/200\n",
      "238/238 [==============================] - ETA: 0s - loss: 0.3808 - accuracy: 0.8674\n",
      "Epoch 00048: val_accuracy did not improve from 0.92632\n",
      "238/238 [==============================] - 64s 267ms/step - loss: 0.3808 - accuracy: 0.8674 - val_loss: 0.2714 - val_accuracy: 0.9126\n",
      "Epoch 49/200\n",
      "238/238 [==============================] - ETA: 0s - loss: 0.3782 - accuracy: 0.8689\n",
      "Epoch 00049: val_accuracy did not improve from 0.92632\n",
      "238/238 [==============================] - 64s 268ms/step - loss: 0.3782 - accuracy: 0.8689 - val_loss: 0.2141 - val_accuracy: 0.9221\n",
      "Epoch 50/200\n",
      "238/238 [==============================] - ETA: 0s - loss: 0.3666 - accuracy: 0.8734\n",
      "Epoch 00050: val_accuracy did not improve from 0.92632\n",
      "238/238 [==============================] - 64s 269ms/step - loss: 0.3666 - accuracy: 0.8734 - val_loss: 0.5647 - val_accuracy: 0.8126\n",
      "Epoch 51/200\n",
      "238/238 [==============================] - ETA: 0s - loss: 0.3707 - accuracy: 0.8703\n",
      "Epoch 00051: val_accuracy did not improve from 0.92632\n",
      "238/238 [==============================] - 64s 267ms/step - loss: 0.3707 - accuracy: 0.8703 - val_loss: 0.5069 - val_accuracy: 0.8126\n",
      "Epoch 52/200\n",
      "238/238 [==============================] - ETA: 0s - loss: 0.3567 - accuracy: 0.8676\n",
      "Epoch 00052: val_accuracy did not improve from 0.92632\n",
      "238/238 [==============================] - 64s 267ms/step - loss: 0.3567 - accuracy: 0.8676 - val_loss: 0.4846 - val_accuracy: 0.8137\n",
      "Epoch 53/200\n",
      "238/238 [==============================] - ETA: 0s - loss: 0.3576 - accuracy: 0.8745\n",
      "Epoch 00053: val_accuracy did not improve from 0.92632\n",
      "238/238 [==============================] - 64s 268ms/step - loss: 0.3576 - accuracy: 0.8745 - val_loss: 0.2778 - val_accuracy: 0.9084\n",
      "Epoch 54/200\n",
      "238/238 [==============================] - ETA: 0s - loss: 0.4027 - accuracy: 0.8653\n",
      "Epoch 00054: val_accuracy did not improve from 0.92632\n",
      "238/238 [==============================] - 65s 272ms/step - loss: 0.4027 - accuracy: 0.8653 - val_loss: 0.3788 - val_accuracy: 0.8663\n"
     ]
    },
    {
     "name": "stdout",
     "output_type": "stream",
     "text": [
      "Epoch 55/200\n",
      "238/238 [==============================] - ETA: 0s - loss: 0.3524 - accuracy: 0.8766\n",
      "Epoch 00055: val_accuracy did not improve from 0.92632\n",
      "238/238 [==============================] - 64s 271ms/step - loss: 0.3524 - accuracy: 0.8766 - val_loss: 0.3419 - val_accuracy: 0.8821\n",
      "Epoch 56/200\n",
      "238/238 [==============================] - ETA: 0s - loss: 0.3729 - accuracy: 0.8703\n",
      "Epoch 00056: val_accuracy did not improve from 0.92632\n",
      "238/238 [==============================] - 64s 269ms/step - loss: 0.3729 - accuracy: 0.8703 - val_loss: 0.4754 - val_accuracy: 0.8337\n",
      "Epoch 57/200\n",
      "238/238 [==============================] - ETA: 0s - loss: 0.3476 - accuracy: 0.8787\n",
      "Epoch 00057: val_accuracy did not improve from 0.92632\n",
      "238/238 [==============================] - 64s 270ms/step - loss: 0.3476 - accuracy: 0.8787 - val_loss: 0.6199 - val_accuracy: 0.7895\n",
      "Epoch 58/200\n",
      "238/238 [==============================] - ETA: 0s - loss: 0.3583 - accuracy: 0.8747\n",
      "Epoch 00058: val_accuracy did not improve from 0.92632\n",
      "238/238 [==============================] - 63s 267ms/step - loss: 0.3583 - accuracy: 0.8747 - val_loss: 0.2518 - val_accuracy: 0.9084\n",
      "Epoch 59/200\n",
      "238/238 [==============================] - ETA: 0s - loss: 0.3454 - accuracy: 0.8792\n",
      "Epoch 00059: val_accuracy improved from 0.92632 to 0.93579, saving model to /kaggle/working/plantspecies_CNN_model.h5\n",
      "238/238 [==============================] - 64s 268ms/step - loss: 0.3454 - accuracy: 0.8792 - val_loss: 0.2039 - val_accuracy: 0.9358\n",
      "Epoch 60/200\n",
      "238/238 [==============================] - ETA: 0s - loss: 0.3658 - accuracy: 0.8729\n",
      "Epoch 00060: val_accuracy did not improve from 0.93579\n",
      "238/238 [==============================] - 64s 268ms/step - loss: 0.3658 - accuracy: 0.8729 - val_loss: 0.2824 - val_accuracy: 0.9011\n",
      "Epoch 61/200\n",
      "238/238 [==============================] - ETA: 0s - loss: 0.3617 - accuracy: 0.8711\n",
      "Epoch 00061: val_accuracy did not improve from 0.93579\n",
      "238/238 [==============================] - 64s 269ms/step - loss: 0.3617 - accuracy: 0.8711 - val_loss: 0.9363 - val_accuracy: 0.6789\n",
      "Epoch 62/200\n",
      "238/238 [==============================] - ETA: 0s - loss: 0.3655 - accuracy: 0.8684\n",
      "Epoch 00062: val_accuracy did not improve from 0.93579\n",
      "238/238 [==============================] - 64s 269ms/step - loss: 0.3655 - accuracy: 0.8684 - val_loss: 0.1824 - val_accuracy: 0.9284\n",
      "Epoch 63/200\n",
      "238/238 [==============================] - ETA: 0s - loss: 0.3547 - accuracy: 0.8797\n",
      "Epoch 00063: val_accuracy did not improve from 0.93579\n",
      "238/238 [==============================] - 64s 270ms/step - loss: 0.3547 - accuracy: 0.8797 - val_loss: 0.2274 - val_accuracy: 0.9263\n",
      "Epoch 64/200\n",
      "238/238 [==============================] - ETA: 0s - loss: 0.3316 - accuracy: 0.8800\n",
      "Epoch 00064: val_accuracy did not improve from 0.93579\n",
      "238/238 [==============================] - 63s 266ms/step - loss: 0.3316 - accuracy: 0.8800 - val_loss: 0.3763 - val_accuracy: 0.8537\n",
      "Epoch 65/200\n",
      "238/238 [==============================] - ETA: 0s - loss: 0.3646 - accuracy: 0.8797\n",
      "Epoch 00065: val_accuracy did not improve from 0.93579\n",
      "238/238 [==============================] - 64s 268ms/step - loss: 0.3646 - accuracy: 0.8797 - val_loss: 0.2295 - val_accuracy: 0.9305\n",
      "Epoch 66/200\n",
      "238/238 [==============================] - ETA: 0s - loss: 0.3478 - accuracy: 0.8803\n",
      "Epoch 00066: val_accuracy did not improve from 0.93579\n",
      "238/238 [==============================] - 63s 267ms/step - loss: 0.3478 - accuracy: 0.8803 - val_loss: 0.1786 - val_accuracy: 0.9358\n",
      "Epoch 67/200\n",
      "238/238 [==============================] - ETA: 0s - loss: 0.3360 - accuracy: 0.8803\n",
      "Epoch 00067: val_accuracy did not improve from 0.93579\n",
      "238/238 [==============================] - 65s 271ms/step - loss: 0.3360 - accuracy: 0.8803 - val_loss: 0.5829 - val_accuracy: 0.8032\n",
      "Epoch 68/200\n",
      "238/238 [==============================] - ETA: 0s - loss: 0.3252 - accuracy: 0.8858\n",
      "Epoch 00068: val_accuracy did not improve from 0.93579\n",
      "238/238 [==============================] - 64s 270ms/step - loss: 0.3252 - accuracy: 0.8858 - val_loss: 0.2340 - val_accuracy: 0.9189\n",
      "Epoch 69/200\n",
      "238/238 [==============================] - ETA: 0s - loss: 0.3351 - accuracy: 0.8839\n",
      "Epoch 00069: val_accuracy did not improve from 0.93579\n",
      "238/238 [==============================] - 64s 268ms/step - loss: 0.3351 - accuracy: 0.8839 - val_loss: 0.2626 - val_accuracy: 0.9095\n",
      "Epoch 70/200\n",
      "238/238 [==============================] - ETA: 0s - loss: 0.3250 - accuracy: 0.8882\n",
      "Epoch 00070: val_accuracy did not improve from 0.93579\n",
      "238/238 [==============================] - 63s 266ms/step - loss: 0.3250 - accuracy: 0.8882 - val_loss: 0.2320 - val_accuracy: 0.9158\n",
      "Epoch 71/200\n",
      "238/238 [==============================] - ETA: 0s - loss: 0.3290 - accuracy: 0.8768\n",
      "Epoch 00071: val_accuracy did not improve from 0.93579\n",
      "238/238 [==============================] - 64s 268ms/step - loss: 0.3290 - accuracy: 0.8768 - val_loss: 1.8163 - val_accuracy: 0.5137\n",
      "Epoch 72/200\n",
      "238/238 [==============================] - ETA: 0s - loss: 0.3128 - accuracy: 0.8947\n",
      "Epoch 00072: val_accuracy did not improve from 0.93579\n",
      "238/238 [==============================] - 64s 267ms/step - loss: 0.3128 - accuracy: 0.8947 - val_loss: 0.4575 - val_accuracy: 0.8674\n",
      "Epoch 73/200\n",
      "238/238 [==============================] - ETA: 0s - loss: 0.3078 - accuracy: 0.8932\n",
      "Epoch 00073: val_accuracy did not improve from 0.93579\n",
      "238/238 [==============================] - 64s 267ms/step - loss: 0.3078 - accuracy: 0.8932 - val_loss: 0.4382 - val_accuracy: 0.8442\n",
      "Epoch 74/200\n",
      "238/238 [==============================] - ETA: 0s - loss: 0.3252 - accuracy: 0.8884\n",
      "Epoch 00074: val_accuracy did not improve from 0.93579\n",
      "238/238 [==============================] - 64s 267ms/step - loss: 0.3252 - accuracy: 0.8884 - val_loss: 0.3645 - val_accuracy: 0.8589\n",
      "Epoch 75/200\n",
      "238/238 [==============================] - ETA: 0s - loss: 0.3417 - accuracy: 0.8779\n",
      "Epoch 00075: val_accuracy did not improve from 0.93579\n",
      "238/238 [==============================] - 64s 267ms/step - loss: 0.3417 - accuracy: 0.8779 - val_loss: 0.6645 - val_accuracy: 0.7863\n",
      "Epoch 76/200\n",
      "238/238 [==============================] - ETA: 0s - loss: 0.3229 - accuracy: 0.8889\n",
      "Epoch 00076: val_accuracy did not improve from 0.93579\n",
      "238/238 [==============================] - 64s 267ms/step - loss: 0.3229 - accuracy: 0.8889 - val_loss: 0.2175 - val_accuracy: 0.9179\n",
      "Epoch 77/200\n",
      "238/238 [==============================] - ETA: 0s - loss: 0.3305 - accuracy: 0.8879\n",
      "Epoch 00077: val_accuracy did not improve from 0.93579\n",
      "238/238 [==============================] - 64s 270ms/step - loss: 0.3305 - accuracy: 0.8879 - val_loss: 0.2656 - val_accuracy: 0.9147\n",
      "Epoch 78/200\n",
      "238/238 [==============================] - ETA: 0s - loss: 0.3050 - accuracy: 0.8942\n",
      "Epoch 00078: val_accuracy did not improve from 0.93579\n",
      "238/238 [==============================] - 64s 270ms/step - loss: 0.3050 - accuracy: 0.8942 - val_loss: 0.2636 - val_accuracy: 0.9137\n",
      "Epoch 79/200\n",
      "238/238 [==============================] - ETA: 0s - loss: 0.3082 - accuracy: 0.8989\n",
      "Epoch 00079: val_accuracy did not improve from 0.93579\n",
      "238/238 [==============================] - 64s 269ms/step - loss: 0.3082 - accuracy: 0.8989 - val_loss: 0.4481 - val_accuracy: 0.8653\n",
      "Epoch 80/200\n",
      "238/238 [==============================] - ETA: 0s - loss: 0.3138 - accuracy: 0.8905\n",
      "Epoch 00080: val_accuracy did not improve from 0.93579\n",
      "238/238 [==============================] - 64s 270ms/step - loss: 0.3138 - accuracy: 0.8905 - val_loss: 0.5186 - val_accuracy: 0.8168\n",
      "Epoch 81/200\n",
      "238/238 [==============================] - ETA: 0s - loss: 0.3261 - accuracy: 0.8895\n",
      "Epoch 00081: val_accuracy did not improve from 0.93579\n",
      "238/238 [==============================] - 64s 269ms/step - loss: 0.3261 - accuracy: 0.8895 - val_loss: 0.2292 - val_accuracy: 0.9242\n",
      "Epoch 82/200\n",
      "238/238 [==============================] - ETA: 0s - loss: 0.3395 - accuracy: 0.8903\n",
      "Epoch 00082: val_accuracy improved from 0.93579 to 0.93895, saving model to /kaggle/working/plantspecies_CNN_model.h5\n",
      "238/238 [==============================] - 64s 268ms/step - loss: 0.3395 - accuracy: 0.8903 - val_loss: 0.1891 - val_accuracy: 0.9389\n",
      "Epoch 83/200\n",
      "238/238 [==============================] - ETA: 0s - loss: 0.3351 - accuracy: 0.8882\n",
      "Epoch 00083: val_accuracy did not improve from 0.93895\n",
      "238/238 [==============================] - 65s 272ms/step - loss: 0.3351 - accuracy: 0.8882 - val_loss: 0.3121 - val_accuracy: 0.8789\n",
      "Epoch 84/200\n",
      "238/238 [==============================] - ETA: 0s - loss: 0.3144 - accuracy: 0.8876\n",
      "Epoch 00084: val_accuracy did not improve from 0.93895\n",
      "238/238 [==============================] - 64s 269ms/step - loss: 0.3144 - accuracy: 0.8876 - val_loss: 0.1941 - val_accuracy: 0.9242\n",
      "Epoch 85/200\n",
      "238/238 [==============================] - ETA: 0s - loss: 0.2936 - accuracy: 0.8955\n",
      "Epoch 00085: val_accuracy did not improve from 0.93895\n",
      "238/238 [==============================] - 64s 268ms/step - loss: 0.2936 - accuracy: 0.8955 - val_loss: 0.3788 - val_accuracy: 0.8484\n",
      "Epoch 86/200\n",
      "238/238 [==============================] - ETA: 0s - loss: 0.2719 - accuracy: 0.9045\n",
      "Epoch 00086: val_accuracy did not improve from 0.93895\n",
      "238/238 [==============================] - 64s 269ms/step - loss: 0.2719 - accuracy: 0.9045 - val_loss: 0.2622 - val_accuracy: 0.9105\n",
      "Epoch 87/200\n",
      "238/238 [==============================] - ETA: 0s - loss: 0.3436 - accuracy: 0.8805\n",
      "Epoch 00087: val_accuracy did not improve from 0.93895\n",
      "238/238 [==============================] - 64s 267ms/step - loss: 0.3436 - accuracy: 0.8805 - val_loss: 0.5156 - val_accuracy: 0.8337\n",
      "Epoch 88/200\n",
      "238/238 [==============================] - ETA: 0s - loss: 0.3154 - accuracy: 0.8953\n",
      "Epoch 00088: val_accuracy improved from 0.93895 to 0.94211, saving model to /kaggle/working/plantspecies_CNN_model.h5\n",
      "238/238 [==============================] - 64s 268ms/step - loss: 0.3154 - accuracy: 0.8953 - val_loss: 0.1863 - val_accuracy: 0.9421\n",
      "Epoch 89/200\n",
      "238/238 [==============================] - ETA: 0s - loss: 0.3229 - accuracy: 0.8882\n",
      "Epoch 00089: val_accuracy did not improve from 0.94211\n",
      "238/238 [==============================] - 64s 269ms/step - loss: 0.3229 - accuracy: 0.8882 - val_loss: 0.2189 - val_accuracy: 0.9211\n",
      "Epoch 90/200\n",
      "238/238 [==============================] - ETA: 0s - loss: 0.3201 - accuracy: 0.8926\n",
      "Epoch 00090: val_accuracy did not improve from 0.94211\n",
      "238/238 [==============================] - 64s 269ms/step - loss: 0.3201 - accuracy: 0.8926 - val_loss: 0.6233 - val_accuracy: 0.8179\n",
      "Epoch 91/200\n",
      "238/238 [==============================] - ETA: 0s - loss: 0.3084 - accuracy: 0.8950\n",
      "Epoch 00091: val_accuracy did not improve from 0.94211\n",
      "238/238 [==============================] - 64s 270ms/step - loss: 0.3084 - accuracy: 0.8950 - val_loss: 0.2517 - val_accuracy: 0.9179\n",
      "Epoch 92/200\n",
      "238/238 [==============================] - ETA: 0s - loss: 0.3365 - accuracy: 0.8868\n",
      "Epoch 00092: val_accuracy improved from 0.94211 to 0.94316, saving model to /kaggle/working/plantspecies_CNN_model.h5\n",
      "238/238 [==============================] - 64s 269ms/step - loss: 0.3365 - accuracy: 0.8868 - val_loss: 0.1632 - val_accuracy: 0.9432\n",
      "Epoch 93/200\n",
      "238/238 [==============================] - ETA: 0s - loss: 0.3053 - accuracy: 0.8961\n",
      "Epoch 00093: val_accuracy improved from 0.94316 to 0.94842, saving model to /kaggle/working/plantspecies_CNN_model.h5\n",
      "238/238 [==============================] - 64s 270ms/step - loss: 0.3053 - accuracy: 0.8961 - val_loss: 0.1526 - val_accuracy: 0.9484\n",
      "Epoch 94/200\n",
      "238/238 [==============================] - ETA: 0s - loss: 0.3094 - accuracy: 0.8921\n",
      "Epoch 00094: val_accuracy did not improve from 0.94842\n",
      "238/238 [==============================] - 64s 267ms/step - loss: 0.3094 - accuracy: 0.8921 - val_loss: 0.2762 - val_accuracy: 0.9000\n",
      "Epoch 95/200\n",
      "238/238 [==============================] - ETA: 0s - loss: 0.2996 - accuracy: 0.8950\n",
      "Epoch 00095: val_accuracy did not improve from 0.94842\n",
      "238/238 [==============================] - 63s 266ms/step - loss: 0.2996 - accuracy: 0.8950 - val_loss: 0.5980 - val_accuracy: 0.7979\n",
      "Epoch 96/200\n",
      "238/238 [==============================] - ETA: 0s - loss: 0.2956 - accuracy: 0.8942\n",
      "Epoch 00096: val_accuracy did not improve from 0.94842\n",
      "238/238 [==============================] - 64s 269ms/step - loss: 0.2956 - accuracy: 0.8942 - val_loss: 0.1580 - val_accuracy: 0.9484\n",
      "Epoch 97/200\n",
      "238/238 [==============================] - ETA: 0s - loss: 0.3018 - accuracy: 0.8966\n",
      "Epoch 00097: val_accuracy did not improve from 0.94842\n",
      "238/238 [==============================] - 64s 269ms/step - loss: 0.3018 - accuracy: 0.8966 - val_loss: 0.1585 - val_accuracy: 0.9411\n",
      "Epoch 98/200\n",
      "238/238 [==============================] - ETA: 0s - loss: 0.2976 - accuracy: 0.8945\n",
      "Epoch 00098: val_accuracy did not improve from 0.94842\n",
      "238/238 [==============================] - 64s 269ms/step - loss: 0.2976 - accuracy: 0.8945 - val_loss: 0.2037 - val_accuracy: 0.9284\n",
      "Epoch 99/200\n",
      "238/238 [==============================] - ETA: 0s - loss: 0.3416 - accuracy: 0.8853\n",
      "Epoch 00099: val_accuracy did not improve from 0.94842\n",
      "238/238 [==============================] - 63s 265ms/step - loss: 0.3416 - accuracy: 0.8853 - val_loss: 0.2057 - val_accuracy: 0.9295\n",
      "Epoch 100/200\n",
      "238/238 [==============================] - ETA: 0s - loss: 0.2871 - accuracy: 0.9016\n",
      "Epoch 00100: val_accuracy did not improve from 0.94842\n",
      "238/238 [==============================] - 64s 268ms/step - loss: 0.2871 - accuracy: 0.9016 - val_loss: 0.3306 - val_accuracy: 0.8821\n",
      "Epoch 101/200\n",
      "238/238 [==============================] - ETA: 0s - loss: 0.2899 - accuracy: 0.9055\n",
      "Epoch 00101: val_accuracy did not improve from 0.94842\n",
      "238/238 [==============================] - 64s 270ms/step - loss: 0.2899 - accuracy: 0.9055 - val_loss: 0.1997 - val_accuracy: 0.9389\n",
      "Epoch 102/200\n",
      "238/238 [==============================] - ETA: 0s - loss: 0.3218 - accuracy: 0.8921\n",
      "Epoch 00102: val_accuracy improved from 0.94842 to 0.95474, saving model to /kaggle/working/plantspecies_CNN_model.h5\n",
      "238/238 [==============================] - 64s 271ms/step - loss: 0.3218 - accuracy: 0.8921 - val_loss: 0.1502 - val_accuracy: 0.9547\n",
      "Epoch 103/200\n",
      "238/238 [==============================] - ETA: 0s - loss: 0.3128 - accuracy: 0.8939\n",
      "Epoch 00103: val_accuracy did not improve from 0.95474\n",
      "238/238 [==============================] - 64s 270ms/step - loss: 0.3128 - accuracy: 0.8939 - val_loss: 1.6010 - val_accuracy: 0.5895\n",
      "Epoch 104/200\n",
      "238/238 [==============================] - ETA: 0s - loss: 0.3075 - accuracy: 0.8913\n",
      "Epoch 00104: val_accuracy did not improve from 0.95474\n",
      "238/238 [==============================] - 64s 270ms/step - loss: 0.3075 - accuracy: 0.8913 - val_loss: 0.2004 - val_accuracy: 0.9337\n",
      "Epoch 105/200\n",
      "238/238 [==============================] - ETA: 0s - loss: 0.3010 - accuracy: 0.8947\n",
      "Epoch 00105: val_accuracy did not improve from 0.95474\n",
      "238/238 [==============================] - 64s 270ms/step - loss: 0.3010 - accuracy: 0.8947 - val_loss: 0.2210 - val_accuracy: 0.9179\n",
      "Epoch 106/200\n",
      "238/238 [==============================] - ETA: 0s - loss: 0.2998 - accuracy: 0.8958\n",
      "Epoch 00106: val_accuracy did not improve from 0.95474\n",
      "238/238 [==============================] - 64s 270ms/step - loss: 0.2998 - accuracy: 0.8958 - val_loss: 0.1787 - val_accuracy: 0.9400\n",
      "Epoch 107/200\n",
      "238/238 [==============================] - ETA: 0s - loss: 0.2733 - accuracy: 0.9047\n",
      "Epoch 00107: val_accuracy did not improve from 0.95474\n",
      "238/238 [==============================] - 64s 268ms/step - loss: 0.2733 - accuracy: 0.9047 - val_loss: 0.1442 - val_accuracy: 0.9526\n",
      "Epoch 108/200\n",
      "238/238 [==============================] - ETA: 0s - loss: 0.2695 - accuracy: 0.9063\n",
      "Epoch 00108: val_accuracy did not improve from 0.95474\n",
      "238/238 [==============================] - 63s 267ms/step - loss: 0.2695 - accuracy: 0.9063 - val_loss: 0.1653 - val_accuracy: 0.9316\n",
      "Epoch 109/200\n",
      "238/238 [==============================] - ETA: 0s - loss: 0.2630 - accuracy: 0.9082\n",
      "Epoch 00109: val_accuracy did not improve from 0.95474\n",
      "238/238 [==============================] - 64s 268ms/step - loss: 0.2630 - accuracy: 0.9082 - val_loss: 0.1762 - val_accuracy: 0.9421\n",
      "Epoch 110/200\n",
      "238/238 [==============================] - ETA: 0s - loss: 0.2725 - accuracy: 0.9061\n",
      "Epoch 00110: val_accuracy did not improve from 0.95474\n",
      "238/238 [==============================] - 64s 270ms/step - loss: 0.2725 - accuracy: 0.9061 - val_loss: 0.2906 - val_accuracy: 0.8874\n"
     ]
    },
    {
     "name": "stdout",
     "output_type": "stream",
     "text": [
      "Epoch 111/200\n",
      "238/238 [==============================] - ETA: 0s - loss: 0.2722 - accuracy: 0.9063\n",
      "Epoch 00111: val_accuracy did not improve from 0.95474\n",
      "238/238 [==============================] - 64s 270ms/step - loss: 0.2722 - accuracy: 0.9063 - val_loss: 0.2514 - val_accuracy: 0.9147\n",
      "Epoch 112/200\n",
      "238/238 [==============================] - ETA: 0s - loss: 0.2687 - accuracy: 0.9024\n",
      "Epoch 00112: val_accuracy did not improve from 0.95474\n",
      "238/238 [==============================] - 64s 267ms/step - loss: 0.2687 - accuracy: 0.9024 - val_loss: 0.2153 - val_accuracy: 0.9305\n",
      "Epoch 113/200\n",
      "238/238 [==============================] - ETA: 0s - loss: 0.2703 - accuracy: 0.9111\n",
      "Epoch 00113: val_accuracy did not improve from 0.95474\n",
      "238/238 [==============================] - 64s 267ms/step - loss: 0.2703 - accuracy: 0.9111 - val_loss: 0.1748 - val_accuracy: 0.9379\n",
      "Epoch 114/200\n",
      "238/238 [==============================] - ETA: 0s - loss: 0.2488 - accuracy: 0.9137\n",
      "Epoch 00114: val_accuracy did not improve from 0.95474\n",
      "238/238 [==============================] - 64s 268ms/step - loss: 0.2488 - accuracy: 0.9137 - val_loss: 0.2723 - val_accuracy: 0.9116\n",
      "Epoch 115/200\n",
      "238/238 [==============================] - ETA: 0s - loss: 0.2713 - accuracy: 0.9068\n",
      "Epoch 00115: val_accuracy did not improve from 0.95474\n",
      "238/238 [==============================] - 64s 269ms/step - loss: 0.2713 - accuracy: 0.9068 - val_loss: 0.1514 - val_accuracy: 0.9505\n",
      "Epoch 116/200\n",
      "238/238 [==============================] - ETA: 0s - loss: 0.2823 - accuracy: 0.9047\n",
      "Epoch 00116: val_accuracy did not improve from 0.95474\n",
      "238/238 [==============================] - 64s 267ms/step - loss: 0.2823 - accuracy: 0.9047 - val_loss: 0.2156 - val_accuracy: 0.9274\n",
      "Epoch 117/200\n",
      "238/238 [==============================] - ETA: 0s - loss: 0.2863 - accuracy: 0.9032\n",
      "Epoch 00117: val_accuracy did not improve from 0.95474\n",
      "238/238 [==============================] - 64s 269ms/step - loss: 0.2863 - accuracy: 0.9032 - val_loss: 0.2897 - val_accuracy: 0.9011\n",
      "Epoch 118/200\n",
      "238/238 [==============================] - ETA: 0s - loss: 0.2619 - accuracy: 0.9118\n",
      "Epoch 00118: val_accuracy did not improve from 0.95474\n",
      "238/238 [==============================] - 63s 266ms/step - loss: 0.2619 - accuracy: 0.9118 - val_loss: 0.2933 - val_accuracy: 0.8979\n",
      "Epoch 119/200\n",
      "238/238 [==============================] - ETA: 0s - loss: 0.2642 - accuracy: 0.9084\n",
      "Epoch 00119: val_accuracy did not improve from 0.95474\n",
      "238/238 [==============================] - 63s 266ms/step - loss: 0.2642 - accuracy: 0.9084 - val_loss: 0.1463 - val_accuracy: 0.9537\n",
      "Epoch 120/200\n",
      "238/238 [==============================] - ETA: 0s - loss: 0.2509 - accuracy: 0.9108\n",
      "Epoch 00120: val_accuracy did not improve from 0.95474\n",
      "238/238 [==============================] - 64s 270ms/step - loss: 0.2509 - accuracy: 0.9108 - val_loss: 0.1484 - val_accuracy: 0.9474\n",
      "Epoch 121/200\n",
      "238/238 [==============================] - ETA: 0s - loss: 0.2603 - accuracy: 0.9116\n",
      "Epoch 00121: val_accuracy did not improve from 0.95474\n",
      "238/238 [==============================] - 64s 267ms/step - loss: 0.2603 - accuracy: 0.9116 - val_loss: 0.3869 - val_accuracy: 0.8705\n",
      "Epoch 122/200\n",
      "238/238 [==============================] - ETA: 0s - loss: 0.2670 - accuracy: 0.9142\n",
      "Epoch 00122: val_accuracy did not improve from 0.95474\n",
      "238/238 [==============================] - 64s 267ms/step - loss: 0.2670 - accuracy: 0.9142 - val_loss: 0.2321 - val_accuracy: 0.9274\n",
      "Epoch 123/200\n",
      "238/238 [==============================] - ETA: 0s - loss: 0.2678 - accuracy: 0.9089\n",
      "Epoch 00123: val_accuracy did not improve from 0.95474\n",
      "238/238 [==============================] - 63s 266ms/step - loss: 0.2678 - accuracy: 0.9089 - val_loss: 0.1822 - val_accuracy: 0.9389\n",
      "Epoch 124/200\n",
      "238/238 [==============================] - ETA: 0s - loss: 0.2415 - accuracy: 0.9153\n",
      "Epoch 00124: val_accuracy did not improve from 0.95474\n",
      "238/238 [==============================] - 63s 265ms/step - loss: 0.2415 - accuracy: 0.9153 - val_loss: 0.8017 - val_accuracy: 0.7684\n",
      "Epoch 125/200\n",
      "238/238 [==============================] - ETA: 0s - loss: 0.2822 - accuracy: 0.9005\n",
      "Epoch 00125: val_accuracy did not improve from 0.95474\n",
      "238/238 [==============================] - 64s 268ms/step - loss: 0.2822 - accuracy: 0.9005 - val_loss: 0.6374 - val_accuracy: 0.8042\n",
      "Epoch 126/200\n",
      "238/238 [==============================] - ETA: 0s - loss: 0.2847 - accuracy: 0.9045\n",
      "Epoch 00126: val_accuracy did not improve from 0.95474\n",
      "238/238 [==============================] - 63s 265ms/step - loss: 0.2847 - accuracy: 0.9045 - val_loss: 0.1691 - val_accuracy: 0.9295\n",
      "Epoch 127/200\n",
      "238/238 [==============================] - ETA: 0s - loss: 0.2842 - accuracy: 0.8976\n",
      "Epoch 00127: val_accuracy did not improve from 0.95474\n",
      "238/238 [==============================] - 63s 265ms/step - loss: 0.2842 - accuracy: 0.8976 - val_loss: 0.2715 - val_accuracy: 0.8979\n",
      "Epoch 128/200\n",
      "238/238 [==============================] - ETA: 0s - loss: 0.2617 - accuracy: 0.9039\n",
      "Epoch 00128: val_accuracy did not improve from 0.95474\n",
      "238/238 [==============================] - 63s 264ms/step - loss: 0.2617 - accuracy: 0.9039 - val_loss: 0.1540 - val_accuracy: 0.9421\n",
      "Epoch 129/200\n",
      "238/238 [==============================] - ETA: 0s - loss: 0.2734 - accuracy: 0.9103\n",
      "Epoch 00129: val_accuracy did not improve from 0.95474\n",
      "238/238 [==============================] - 63s 266ms/step - loss: 0.2734 - accuracy: 0.9103 - val_loss: 0.3627 - val_accuracy: 0.8758\n",
      "Epoch 130/200\n",
      "238/238 [==============================] - ETA: 0s - loss: 0.2886 - accuracy: 0.9050\n",
      "Epoch 00130: val_accuracy did not improve from 0.95474\n",
      "238/238 [==============================] - 64s 268ms/step - loss: 0.2886 - accuracy: 0.9050 - val_loss: 0.3589 - val_accuracy: 0.8811\n",
      "Epoch 131/200\n",
      "238/238 [==============================] - ETA: 0s - loss: 0.2707 - accuracy: 0.9145\n",
      "Epoch 00131: val_accuracy did not improve from 0.95474\n",
      "238/238 [==============================] - 63s 266ms/step - loss: 0.2707 - accuracy: 0.9145 - val_loss: 0.2455 - val_accuracy: 0.9158\n",
      "Epoch 132/200\n",
      "238/238 [==============================] - ETA: 0s - loss: 0.2870 - accuracy: 0.8995\n",
      "Epoch 00132: val_accuracy did not improve from 0.95474\n",
      "238/238 [==============================] - 63s 266ms/step - loss: 0.2870 - accuracy: 0.8995 - val_loss: 0.1566 - val_accuracy: 0.9484\n",
      "Epoch 133/200\n",
      "238/238 [==============================] - ETA: 0s - loss: 0.2552 - accuracy: 0.9192\n",
      "Epoch 00133: val_accuracy did not improve from 0.95474\n",
      "238/238 [==============================] - 63s 264ms/step - loss: 0.2552 - accuracy: 0.9192 - val_loss: 0.1882 - val_accuracy: 0.9326\n",
      "Epoch 134/200\n",
      "238/238 [==============================] - ETA: 0s - loss: 0.2349 - accuracy: 0.9171\n",
      "Epoch 00134: val_accuracy did not improve from 0.95474\n",
      "238/238 [==============================] - 63s 266ms/step - loss: 0.2349 - accuracy: 0.9171 - val_loss: 0.3411 - val_accuracy: 0.8832\n",
      "Epoch 135/200\n",
      "238/238 [==============================] - ETA: 0s - loss: 0.2784 - accuracy: 0.9045\n",
      "Epoch 00135: val_accuracy did not improve from 0.95474\n",
      "238/238 [==============================] - 63s 266ms/step - loss: 0.2784 - accuracy: 0.9045 - val_loss: 0.1721 - val_accuracy: 0.9368\n",
      "Epoch 136/200\n",
      "238/238 [==============================] - ETA: 0s - loss: 0.2944 - accuracy: 0.8992\n",
      "Epoch 00136: val_accuracy did not improve from 0.95474\n",
      "238/238 [==============================] - 64s 267ms/step - loss: 0.2944 - accuracy: 0.8992 - val_loss: 0.2214 - val_accuracy: 0.9179\n",
      "Epoch 137/200\n",
      "238/238 [==============================] - ETA: 0s - loss: 0.2745 - accuracy: 0.9068\n",
      "Epoch 00137: val_accuracy did not improve from 0.95474\n",
      "238/238 [==============================] - 63s 265ms/step - loss: 0.2745 - accuracy: 0.9068 - val_loss: 0.1570 - val_accuracy: 0.9442\n",
      "Epoch 138/200\n",
      "238/238 [==============================] - ETA: 0s - loss: 0.2548 - accuracy: 0.9105\n",
      "Epoch 00138: val_accuracy improved from 0.95474 to 0.95789, saving model to /kaggle/working/plantspecies_CNN_model.h5\n",
      "238/238 [==============================] - 63s 265ms/step - loss: 0.2548 - accuracy: 0.9105 - val_loss: 0.1343 - val_accuracy: 0.9579\n",
      "Epoch 139/200\n",
      "238/238 [==============================] - ETA: 0s - loss: 0.2529 - accuracy: 0.9076\n",
      "Epoch 00139: val_accuracy did not improve from 0.95789\n",
      "238/238 [==============================] - 64s 267ms/step - loss: 0.2529 - accuracy: 0.9076 - val_loss: 0.1761 - val_accuracy: 0.9379\n",
      "Epoch 140/200\n",
      "238/238 [==============================] - ETA: 0s - loss: 0.2545 - accuracy: 0.9137\n",
      "Epoch 00140: val_accuracy did not improve from 0.95789\n",
      "238/238 [==============================] - 64s 267ms/step - loss: 0.2545 - accuracy: 0.9137 - val_loss: 0.1627 - val_accuracy: 0.9421\n",
      "Epoch 141/200\n",
      "238/238 [==============================] - ETA: 0s - loss: 0.2638 - accuracy: 0.9066\n",
      "Epoch 00141: val_accuracy did not improve from 0.95789\n",
      "238/238 [==============================] - 63s 267ms/step - loss: 0.2638 - accuracy: 0.9066 - val_loss: 0.3886 - val_accuracy: 0.8821\n",
      "Epoch 142/200\n",
      "238/238 [==============================] - ETA: 0s - loss: 0.2647 - accuracy: 0.9087\n",
      "Epoch 00142: val_accuracy did not improve from 0.95789\n",
      "238/238 [==============================] - 63s 263ms/step - loss: 0.2647 - accuracy: 0.9087 - val_loss: 0.2314 - val_accuracy: 0.9211\n",
      "Epoch 143/200\n",
      "238/238 [==============================] - ETA: 0s - loss: 0.2411 - accuracy: 0.9161\n",
      "Epoch 00143: val_accuracy did not improve from 0.95789\n",
      "238/238 [==============================] - 63s 263ms/step - loss: 0.2411 - accuracy: 0.9161 - val_loss: 0.1716 - val_accuracy: 0.9453\n",
      "Epoch 144/200\n",
      "238/238 [==============================] - ETA: 0s - loss: 0.2600 - accuracy: 0.9087\n",
      "Epoch 00144: val_accuracy did not improve from 0.95789\n",
      "238/238 [==============================] - 63s 263ms/step - loss: 0.2600 - accuracy: 0.9087 - val_loss: 0.1469 - val_accuracy: 0.9474\n",
      "Epoch 145/200\n",
      "238/238 [==============================] - ETA: 0s - loss: 0.2532 - accuracy: 0.9205\n",
      "Epoch 00145: val_accuracy did not improve from 0.95789\n",
      "238/238 [==============================] - 63s 264ms/step - loss: 0.2532 - accuracy: 0.9205 - val_loss: 0.1343 - val_accuracy: 0.9495\n",
      "Epoch 146/200\n",
      "238/238 [==============================] - ETA: 0s - loss: 0.2268 - accuracy: 0.9229\n",
      "Epoch 00146: val_accuracy did not improve from 0.95789\n",
      "238/238 [==============================] - 63s 263ms/step - loss: 0.2268 - accuracy: 0.9229 - val_loss: 0.1770 - val_accuracy: 0.9495\n",
      "Epoch 147/200\n",
      "238/238 [==============================] - ETA: 0s - loss: 0.2465 - accuracy: 0.9155\n",
      "Epoch 00147: val_accuracy did not improve from 0.95789\n",
      "238/238 [==============================] - 63s 264ms/step - loss: 0.2465 - accuracy: 0.9155 - val_loss: 0.1490 - val_accuracy: 0.9526\n",
      "Epoch 148/200\n",
      "238/238 [==============================] - ETA: 0s - loss: 0.2247 - accuracy: 0.9211\n",
      "Epoch 00148: val_accuracy did not improve from 0.95789\n",
      "238/238 [==============================] - 63s 263ms/step - loss: 0.2247 - accuracy: 0.9211 - val_loss: 0.1430 - val_accuracy: 0.9547\n",
      "Epoch 149/200\n",
      "238/238 [==============================] - ETA: 0s - loss: 0.2336 - accuracy: 0.9216\n",
      "Epoch 00149: val_accuracy did not improve from 0.95789\n",
      "238/238 [==============================] - 62s 262ms/step - loss: 0.2336 - accuracy: 0.9216 - val_loss: 0.1535 - val_accuracy: 0.9516\n",
      "Epoch 150/200\n",
      "238/238 [==============================] - ETA: 0s - loss: 0.2594 - accuracy: 0.9155\n",
      "Epoch 00150: val_accuracy improved from 0.95789 to 0.96105, saving model to /kaggle/working/plantspecies_CNN_model.h5\n",
      "238/238 [==============================] - 63s 264ms/step - loss: 0.2594 - accuracy: 0.9155 - val_loss: 0.1131 - val_accuracy: 0.9611\n",
      "Epoch 151/200\n",
      "238/238 [==============================] - ETA: 0s - loss: 0.2346 - accuracy: 0.9211\n",
      "Epoch 00151: val_accuracy did not improve from 0.96105\n",
      "238/238 [==============================] - 62s 261ms/step - loss: 0.2346 - accuracy: 0.9211 - val_loss: 0.1422 - val_accuracy: 0.9516\n",
      "Epoch 152/200\n",
      "238/238 [==============================] - ETA: 0s - loss: 0.2417 - accuracy: 0.9166\n",
      "Epoch 00152: val_accuracy did not improve from 0.96105\n",
      "238/238 [==============================] - 62s 262ms/step - loss: 0.2417 - accuracy: 0.9166 - val_loss: 0.2012 - val_accuracy: 0.9274\n",
      "Epoch 153/200\n",
      "238/238 [==============================] - ETA: 0s - loss: 0.2437 - accuracy: 0.9121\n",
      "Epoch 00153: val_accuracy did not improve from 0.96105\n",
      "238/238 [==============================] - 63s 263ms/step - loss: 0.2437 - accuracy: 0.9121 - val_loss: 0.1925 - val_accuracy: 0.9400\n",
      "Epoch 154/200\n",
      "238/238 [==============================] - ETA: 0s - loss: 0.2477 - accuracy: 0.9155\n",
      "Epoch 00154: val_accuracy did not improve from 0.96105\n",
      "238/238 [==============================] - 63s 263ms/step - loss: 0.2477 - accuracy: 0.9155 - val_loss: 0.4024 - val_accuracy: 0.8505\n",
      "Epoch 155/200\n",
      "238/238 [==============================] - ETA: 0s - loss: 0.2460 - accuracy: 0.9150\n",
      "Epoch 00155: val_accuracy did not improve from 0.96105\n",
      "238/238 [==============================] - 63s 265ms/step - loss: 0.2460 - accuracy: 0.9150 - val_loss: 0.1671 - val_accuracy: 0.9484\n",
      "Epoch 156/200\n",
      "238/238 [==============================] - ETA: 0s - loss: 0.2748 - accuracy: 0.9066\n",
      "Epoch 00156: val_accuracy did not improve from 0.96105\n",
      "238/238 [==============================] - 62s 262ms/step - loss: 0.2748 - accuracy: 0.9066 - val_loss: 0.1949 - val_accuracy: 0.9326\n",
      "Epoch 157/200\n",
      "238/238 [==============================] - ETA: 0s - loss: 0.2801 - accuracy: 0.9011\n",
      "Epoch 00157: val_accuracy did not improve from 0.96105\n",
      "238/238 [==============================] - 62s 260ms/step - loss: 0.2801 - accuracy: 0.9011 - val_loss: 0.1295 - val_accuracy: 0.9537\n",
      "Epoch 158/200\n",
      "238/238 [==============================] - ETA: 0s - loss: 0.2356 - accuracy: 0.9166\n",
      "Epoch 00158: val_accuracy did not improve from 0.96105\n",
      "238/238 [==============================] - 62s 263ms/step - loss: 0.2356 - accuracy: 0.9166 - val_loss: 0.2070 - val_accuracy: 0.9253\n",
      "Epoch 159/200\n",
      "238/238 [==============================] - ETA: 0s - loss: 0.2327 - accuracy: 0.9166\n",
      "Epoch 00159: val_accuracy did not improve from 0.96105\n",
      "238/238 [==============================] - 62s 262ms/step - loss: 0.2327 - accuracy: 0.9166 - val_loss: 0.2311 - val_accuracy: 0.9326\n",
      "Epoch 160/200\n",
      "238/238 [==============================] - ETA: 0s - loss: 0.2279 - accuracy: 0.9250\n",
      "Epoch 00160: val_accuracy improved from 0.96105 to 0.96421, saving model to /kaggle/working/plantspecies_CNN_model.h5\n",
      "238/238 [==============================] - 62s 262ms/step - loss: 0.2279 - accuracy: 0.9250 - val_loss: 0.1062 - val_accuracy: 0.9642\n",
      "Epoch 161/200\n",
      "238/238 [==============================] - ETA: 0s - loss: 0.2542 - accuracy: 0.9187\n",
      "Epoch 00161: val_accuracy did not improve from 0.96421\n",
      "238/238 [==============================] - 63s 264ms/step - loss: 0.2542 - accuracy: 0.9187 - val_loss: 0.2383 - val_accuracy: 0.9274\n",
      "Epoch 162/200\n",
      "238/238 [==============================] - ETA: 0s - loss: 0.2315 - accuracy: 0.9247\n",
      "Epoch 00162: val_accuracy did not improve from 0.96421\n",
      "238/238 [==============================] - 62s 262ms/step - loss: 0.2315 - accuracy: 0.9247 - val_loss: 0.2340 - val_accuracy: 0.9253\n",
      "Epoch 163/200\n",
      "238/238 [==============================] - ETA: 0s - loss: 0.2362 - accuracy: 0.9158\n",
      "Epoch 00163: val_accuracy did not improve from 0.96421\n",
      "238/238 [==============================] - 62s 262ms/step - loss: 0.2362 - accuracy: 0.9158 - val_loss: 0.2122 - val_accuracy: 0.9295\n",
      "Epoch 164/200\n",
      "238/238 [==============================] - ETA: 0s - loss: 0.2711 - accuracy: 0.9087\n",
      "Epoch 00165: val_accuracy did not improve from 0.96421\n",
      "238/238 [==============================] - 63s 266ms/step - loss: 0.2711 - accuracy: 0.9087 - val_loss: 0.3657 - val_accuracy: 0.8789\n",
      "Epoch 166/200\n",
      "238/238 [==============================] - ETA: 0s - loss: 0.2322 - accuracy: 0.9163\n",
      "Epoch 00166: val_accuracy did not improve from 0.96421\n",
      "238/238 [==============================] - 61s 258ms/step - loss: 0.2322 - accuracy: 0.9163 - val_loss: 0.3903 - val_accuracy: 0.8705\n",
      "Epoch 167/200\n",
      "238/238 [==============================] - ETA: 0s - loss: 0.2527 - accuracy: 0.9166\n",
      "Epoch 00167: val_accuracy did not improve from 0.96421\n",
      "238/238 [==============================] - 61s 258ms/step - loss: 0.2527 - accuracy: 0.9166 - val_loss: 0.3324 - val_accuracy: 0.8916\n",
      "Epoch 168/200\n"
     ]
    },
    {
     "name": "stdout",
     "output_type": "stream",
     "text": [
      "238/238 [==============================] - ETA: 0s - loss: 0.2437 - accuracy: 0.9137\n",
      "Epoch 00168: val_accuracy did not improve from 0.96421\n",
      "238/238 [==============================] - 63s 265ms/step - loss: 0.2437 - accuracy: 0.9137 - val_loss: 0.1512 - val_accuracy: 0.9547\n",
      "Epoch 169/200\n",
      "238/238 [==============================] - ETA: 0s - loss: 0.2564 - accuracy: 0.9087\n",
      "Epoch 00169: val_accuracy did not improve from 0.96421\n",
      "238/238 [==============================] - 63s 264ms/step - loss: 0.2564 - accuracy: 0.9087 - val_loss: 0.1345 - val_accuracy: 0.9568\n",
      "Epoch 170/200\n",
      "238/238 [==============================] - ETA: 0s - loss: 0.2568 - accuracy: 0.9092\n",
      "Epoch 00170: val_accuracy improved from 0.96421 to 0.96947, saving model to /kaggle/working/plantspecies_CNN_model.h5\n",
      "238/238 [==============================] - 62s 261ms/step - loss: 0.2568 - accuracy: 0.9092 - val_loss: 0.0979 - val_accuracy: 0.9695\n",
      "Epoch 171/200\n",
      "238/238 [==============================] - ETA: 0s - loss: 0.2466 - accuracy: 0.9158\n",
      "Epoch 00171: val_accuracy did not improve from 0.96947\n",
      "238/238 [==============================] - 63s 264ms/step - loss: 0.2466 - accuracy: 0.9158 - val_loss: 0.1509 - val_accuracy: 0.9495\n",
      "Epoch 172/200\n",
      "238/238 [==============================] - ETA: 0s - loss: 0.2570 - accuracy: 0.9105\n",
      "Epoch 00172: val_accuracy did not improve from 0.96947\n",
      "238/238 [==============================] - 63s 264ms/step - loss: 0.2570 - accuracy: 0.9105 - val_loss: 0.1921 - val_accuracy: 0.9274\n",
      "Epoch 173/200\n",
      "238/238 [==============================] - ETA: 0s - loss: 0.2431 - accuracy: 0.9126\n",
      "Epoch 00173: val_accuracy did not improve from 0.96947\n",
      "238/238 [==============================] - 62s 262ms/step - loss: 0.2431 - accuracy: 0.9126 - val_loss: 0.1375 - val_accuracy: 0.9484\n",
      "Epoch 174/200\n",
      "238/238 [==============================] - ETA: 0s - loss: 0.2567 - accuracy: 0.9147\n",
      "Epoch 00174: val_accuracy did not improve from 0.96947\n",
      "238/238 [==============================] - 63s 264ms/step - loss: 0.2567 - accuracy: 0.9147 - val_loss: 0.1320 - val_accuracy: 0.9568\n",
      "Epoch 175/200\n",
      "238/238 [==============================] - ETA: 0s - loss: 0.2494 - accuracy: 0.9145\n",
      "Epoch 00175: val_accuracy did not improve from 0.96947\n",
      "238/238 [==============================] - 63s 263ms/step - loss: 0.2494 - accuracy: 0.9145 - val_loss: 0.2113 - val_accuracy: 0.9211\n",
      "Epoch 176/200\n",
      "238/238 [==============================] - ETA: 0s - loss: 0.2645 - accuracy: 0.9153\n",
      "Epoch 00176: val_accuracy did not improve from 0.96947\n",
      "238/238 [==============================] - 63s 264ms/step - loss: 0.2645 - accuracy: 0.9153 - val_loss: 0.3322 - val_accuracy: 0.8979\n",
      "Epoch 177/200\n",
      "238/238 [==============================] - ETA: 0s - loss: 0.2382 - accuracy: 0.9205\n",
      "Epoch 00177: val_accuracy did not improve from 0.96947\n",
      "238/238 [==============================] - 62s 262ms/step - loss: 0.2382 - accuracy: 0.9205 - val_loss: 0.2599 - val_accuracy: 0.9211\n",
      "Epoch 178/200\n",
      "238/238 [==============================] - ETA: 0s - loss: 0.2374 - accuracy: 0.9274\n",
      "Epoch 00178: val_accuracy did not improve from 0.96947\n",
      "238/238 [==============================] - 63s 265ms/step - loss: 0.2374 - accuracy: 0.9274 - val_loss: 0.2210 - val_accuracy: 0.9263\n",
      "Epoch 179/200\n",
      "238/238 [==============================] - ETA: 0s - loss: 0.2295 - accuracy: 0.9274\n",
      "Epoch 00179: val_accuracy did not improve from 0.96947\n",
      "238/238 [==============================] - 63s 265ms/step - loss: 0.2295 - accuracy: 0.9274 - val_loss: 0.1724 - val_accuracy: 0.9316\n",
      "Epoch 180/200\n",
      "238/238 [==============================] - ETA: 0s - loss: 0.2368 - accuracy: 0.9239\n",
      "Epoch 00180: val_accuracy did not improve from 0.96947\n",
      "238/238 [==============================] - 63s 265ms/step - loss: 0.2368 - accuracy: 0.9239 - val_loss: 0.3774 - val_accuracy: 0.8642\n",
      "Epoch 181/200\n",
      "238/238 [==============================] - ETA: 0s - loss: 0.2267 - accuracy: 0.9239\n",
      "Epoch 00182: val_accuracy did not improve from 0.96947\n",
      "238/238 [==============================] - 62s 262ms/step - loss: 0.2267 - accuracy: 0.9239 - val_loss: 0.1937 - val_accuracy: 0.9389\n",
      "Epoch 183/200\n",
      "238/238 [==============================] - ETA: 0s - loss: 0.2418 - accuracy: 0.9158\n",
      "Epoch 00183: val_accuracy did not improve from 0.96947\n",
      "238/238 [==============================] - 63s 264ms/step - loss: 0.2418 - accuracy: 0.9158 - val_loss: 0.1560 - val_accuracy: 0.9484\n",
      "Epoch 184/200\n",
      "238/238 [==============================] - ETA: 0s - loss: 0.2455 - accuracy: 0.9187\n",
      "Epoch 00184: val_accuracy did not improve from 0.96947\n",
      "238/238 [==============================] - 63s 264ms/step - loss: 0.2455 - accuracy: 0.9187 - val_loss: 0.1240 - val_accuracy: 0.9579\n",
      "Epoch 185/200\n",
      "238/238 [==============================] - ETA: 0s - loss: 0.2317 - accuracy: 0.9234\n",
      "Epoch 00185: val_accuracy did not improve from 0.96947\n",
      "238/238 [==============================] - 63s 265ms/step - loss: 0.2317 - accuracy: 0.9234 - val_loss: 0.1373 - val_accuracy: 0.9589\n",
      "Epoch 186/200\n",
      "238/238 [==============================] - ETA: 0s - loss: 0.2603 - accuracy: 0.9089\n",
      "Epoch 00186: val_accuracy did not improve from 0.96947\n",
      "238/238 [==============================] - 63s 265ms/step - loss: 0.2603 - accuracy: 0.9089 - val_loss: 0.2784 - val_accuracy: 0.9011\n",
      "Epoch 187/200\n",
      "238/238 [==============================] - ETA: 0s - loss: 0.2725 - accuracy: 0.9058\n",
      "Epoch 00187: val_accuracy did not improve from 0.96947\n",
      "238/238 [==============================] - 63s 265ms/step - loss: 0.2725 - accuracy: 0.9058 - val_loss: 0.3054 - val_accuracy: 0.8916\n",
      "Epoch 188/200\n",
      "238/238 [==============================] - ETA: 0s - loss: 0.2543 - accuracy: 0.9118\n",
      "Epoch 00188: val_accuracy did not improve from 0.96947\n",
      "238/238 [==============================] - 63s 264ms/step - loss: 0.2543 - accuracy: 0.9118 - val_loss: 0.1773 - val_accuracy: 0.9442\n",
      "Epoch 189/200\n",
      "238/238 [==============================] - ETA: 0s - loss: 0.2542 - accuracy: 0.9134\n",
      "Epoch 00189: val_accuracy did not improve from 0.96947\n",
      "238/238 [==============================] - 63s 263ms/step - loss: 0.2542 - accuracy: 0.9134 - val_loss: 0.1691 - val_accuracy: 0.9411\n",
      "Epoch 190/200\n",
      "238/238 [==============================] - ETA: 0s - loss: 0.2741 - accuracy: 0.9039\n",
      "Epoch 00190: val_accuracy did not improve from 0.96947\n",
      "238/238 [==============================] - 63s 264ms/step - loss: 0.2741 - accuracy: 0.9039 - val_loss: 0.1293 - val_accuracy: 0.9558\n",
      "Epoch 191/200\n",
      "238/238 [==============================] - ETA: 0s - loss: 0.2465 - accuracy: 0.9153\n",
      "Epoch 00191: val_accuracy did not improve from 0.96947\n",
      "238/238 [==============================] - 63s 264ms/step - loss: 0.2465 - accuracy: 0.9153 - val_loss: 0.1612 - val_accuracy: 0.9400\n",
      "Epoch 192/200\n",
      "238/238 [==============================] - ETA: 0s - loss: 0.2225 - accuracy: 0.9258\n",
      "Epoch 00192: val_accuracy did not improve from 0.96947\n",
      "238/238 [==============================] - 62s 262ms/step - loss: 0.2225 - accuracy: 0.9258 - val_loss: 0.1589 - val_accuracy: 0.9368\n",
      "Epoch 193/200\n",
      "238/238 [==============================] - ETA: 0s - loss: 0.2424 - accuracy: 0.9129\n",
      "Epoch 00193: val_accuracy improved from 0.96947 to 0.97579, saving model to /kaggle/working/plantspecies_CNN_model.h5\n",
      "238/238 [==============================] - 63s 264ms/step - loss: 0.2424 - accuracy: 0.9129 - val_loss: 0.0906 - val_accuracy: 0.9758\n",
      "Epoch 194/200\n",
      "238/238 [==============================] - ETA: 0s - loss: 0.2382 - accuracy: 0.9184\n",
      "Epoch 00194: val_accuracy did not improve from 0.97579\n",
      "238/238 [==============================] - 63s 264ms/step - loss: 0.2382 - accuracy: 0.9184 - val_loss: 0.1439 - val_accuracy: 0.9537\n",
      "Epoch 195/200\n",
      "238/238 [==============================] - ETA: 0s - loss: 0.2334 - accuracy: 0.9208\n",
      "Epoch 00195: val_accuracy did not improve from 0.97579\n",
      "238/238 [==============================] - 63s 265ms/step - loss: 0.2334 - accuracy: 0.9208 - val_loss: 0.0969 - val_accuracy: 0.9716\n",
      "Epoch 196/200\n",
      "238/238 [==============================] - ETA: 0s - loss: 0.2386 - accuracy: 0.9166\n",
      "Epoch 00196: val_accuracy did not improve from 0.97579\n",
      "238/238 [==============================] - 64s 268ms/step - loss: 0.2386 - accuracy: 0.9166 - val_loss: 0.2059 - val_accuracy: 0.9305\n",
      "Epoch 197/200\n",
      "238/238 [==============================] - ETA: 0s - loss: 0.2295 - accuracy: 0.9239\n",
      "Epoch 00197: val_accuracy did not improve from 0.97579\n",
      "238/238 [==============================] - 64s 268ms/step - loss: 0.2295 - accuracy: 0.9239 - val_loss: 0.1440 - val_accuracy: 0.9474\n",
      "Epoch 198/200\n",
      "238/238 [==============================] - ETA: 0s - loss: 0.2379 - accuracy: 0.9166\n",
      "Epoch 00198: val_accuracy did not improve from 0.97579\n",
      "238/238 [==============================] - 63s 264ms/step - loss: 0.2379 - accuracy: 0.9166 - val_loss: 0.1943 - val_accuracy: 0.9326\n",
      "Epoch 199/200\n",
      "238/238 [==============================] - ETA: 0s - loss: 0.2310 - accuracy: 0.9205\n",
      "Epoch 00199: val_accuracy did not improve from 0.97579\n",
      "238/238 [==============================] - 64s 268ms/step - loss: 0.2310 - accuracy: 0.9205 - val_loss: 0.1517 - val_accuracy: 0.9453\n",
      "Epoch 200/200\n",
      "238/238 [==============================] - ETA: 0s - loss: 0.2271 - accuracy: 0.9213\n",
      "Epoch 00200: val_accuracy did not improve from 0.97579\n",
      "238/238 [==============================] - 63s 266ms/step - loss: 0.2271 - accuracy: 0.9213 - val_loss: 0.1111 - val_accuracy: 0.9621\n"
     ]
    }
   ],
   "source": [
    "history = model.fit_generator(datagen.flow(x_train, y_train, batch_size=16), \n",
    "                    epochs=200, validation_data=(x_test, y_test),   \n",
    "                    callbacks = [model_checkpoint])"
   ]
  },
  {
   "cell_type": "markdown",
   "metadata": {},
   "source": [
    "## Predict the accuracy for both train and validation data"
   ]
  },
  {
   "cell_type": "code",
   "execution_count": 18,
   "metadata": {
    "id": "EdDpAnt_fVkC",
    "outputId": "e8158eff-ca7b-4ba6-a4fb-85edc9487c63"
   },
   "outputs": [
    {
     "name": "stdout",
     "output_type": "stream",
     "text": [
      "30/30 [==============================] - 1s 42ms/step - loss: 0.1111 - accuracy: 0.9621\n",
      "119/119 [==============================] - 6s 50ms/step - loss: 0.0509 - accuracy: 0.9850\n",
      "Test score: 0.11112019419670105    Test accuracy: 0.9621052742004395\n",
      "Train score: 0.050851356238126755    Train accuracy: 0.9850000143051147\n"
     ]
    }
   ],
   "source": [
    "#Final score and accuracy of the model\n",
    "score, acc = model.evaluate(x_test,y_test)\n",
    "score1, acc1 = model.evaluate(x_train,y_train)\n",
    "print('Test score:', score,'   Test accuracy:', acc)\n",
    "print('Train score:', score1,'   Train accuracy:',acc1)"
   ]
  },
  {
   "cell_type": "markdown",
   "metadata": {},
   "source": [
    "## Plot the accuracy and loss graph for train and validation set"
   ]
  },
  {
   "cell_type": "code",
   "execution_count": 19,
   "metadata": {
    "id": "NraNqFutc-xJ",
    "outputId": "be2851b8-9912-4145-dbfa-c6d87fb8b2ad"
   },
   "outputs": [
    {
     "data": {
      "image/png": "[encoded data removed]",
      "text/plain": [
       "<Figure size 432x288 with 1 Axes>"
      ]
     },
     "metadata": {
      "needs_background": "light"
     },
     "output_type": "display_data"
    }
   ],
   "source": [
    "from matplotlib import pyplot as plt\n",
    "plt.plot(history.history['accuracy'])\n",
    "plt.plot(history.history['val_accuracy'])\n",
    "plt.title('model accuracy')\n",
    "plt.ylabel('accuracy')\n",
    "plt.xlabel('epoch')\n",
    "plt.legend(['train', 'val'], loc='upper left')\n",
    "plt.show()"
   ]
  },
  {
   "cell_type": "code",
   "execution_count": 20,
   "metadata": {
    "id": "KV83CvDmfy3q",
    "outputId": "4953576a-8631-4d94-eb0f-ae7bb6315750"
   },
   "outputs": [
    {
     "data": {
      "image/png": "[encoded data removed]",
      "text/plain": [
       "<Figure size 432x288 with 1 Axes>"
      ]
     },
     "metadata": {
      "needs_background": "light"
     },
     "output_type": "display_data"
    }
   ],
   "source": [
    "plt.plot(history.history['loss'])\n",
    "plt.plot(history.history['val_loss'])\n",
    "plt.title('model loss')\n",
    "plt.ylabel('loss')\n",
    "plt.xlabel('epoch')\n",
    "plt.legend(['train', 'val'], loc='upper left')\n",
    "plt.show()"
   ]
  },
  {
   "cell_type": "markdown",
   "metadata": {},
   "source": [
    "## Read the images from test folder and generate test data set"
   ]
  },
  {
   "cell_type": "code",
   "execution_count": 21,
   "metadata": {
    "id": "tE03tFTKd-Q2"
   },
   "outputs": [],
   "source": [
    "test_images_path = '/kaggle/input/plant-seedlings-classification/test/*.png'\n",
    "test_images = glob(test_images_path)\n",
    "test_images_arr = []\n",
    "test_files = []\n",
    "\n",
    "for img in test_images:\n",
    "    test_images_arr.append(cv2.resize(cv2.imread(img), (256, 256)))\n",
    "    test_files.append(img.split('/')[-1])\n",
    "\n",
    "test_X = np.asarray(test_images_arr)"
   ]
  },
  {
   "cell_type": "code",
   "execution_count": 22,
   "metadata": {
    "id": "ez0u7O8RfeOP"
   },
   "outputs": [],
   "source": [
    "# Normalization of the Image Data\n",
    "test_X = test_X.astype('float32') / 255"
   ]
  },
  {
   "cell_type": "markdown",
   "metadata": {},
   "source": [
    "## Predict the classes for test data"
   ]
  },
  {
   "cell_type": "code",
   "execution_count": 23,
   "metadata": {
    "id": "dW5hcvFxfEYD"
   },
   "outputs": [],
   "source": [
    "predictions = model.predict(test_X)"
   ]
  },
  {
   "cell_type": "code",
   "execution_count": 24,
   "metadata": {
    "id": "TTjel1olfFCY"
   },
   "outputs": [],
   "source": [
    "preds = np.argmax(predictions, axis=1)\n",
    "pred_str = encoder.classes_[preds]"
   ]
  },
  {
   "cell_type": "code",
   "execution_count": 25,
   "metadata": {
    "id": "91feYI3HfG9Y"
   },
   "outputs": [],
   "source": [
    "final_predictions = {'file':test_files, 'species':pred_str}\n",
    "final_predictions = pd.DataFrame(final_predictions)\n",
    "final_predictions.to_csv(\"/kaggle/working/submission.csv\", index=False)"
   ]
  },
  {
   "cell_type": "code",
   "execution_count": null,
   "metadata": {
    "id": "7mZQqsO2BmhF"
   },
   "outputs": [],
   "source": []
  }
 ],
 "metadata": {
  "kernelspec": {
   "display_name": "Python 3",
   "language": "python",
   "name": "python3"
  },
  "language_info": {
   "codemirror_mode": {
    "name": "ipython",
    "version": 3
   },
   "file_extension": ".py",
   "mimetype": "text/x-python",
   "name": "python",
   "nbconvert_exporter": "python",
   "pygments_lexer": "ipython3",
   "version": "3.8.8"
  }
 },
 "nbformat": 4,
 "nbformat_minor": 4
}
